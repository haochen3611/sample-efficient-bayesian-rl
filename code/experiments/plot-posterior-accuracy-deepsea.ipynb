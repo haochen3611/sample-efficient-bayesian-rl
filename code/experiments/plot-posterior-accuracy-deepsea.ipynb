{
 "cells": [
  {
   "cell_type": "code",
   "execution_count": 1,
   "metadata": {},
   "outputs": [],
   "source": [
    "import os\n",
    "import sys\n",
    "sys.path.append('/'.join(os.getcwd().split('/')[:-1]))\n",
    "\n",
    "import pathlib\n",
    "import pickle\n",
    "from copy import deepcopy\n",
    "\n",
    "import numpy as np\n",
    "import matplotlib.pyplot as plt\n",
    "import matplotlib\n",
    "\n",
    "from Agents import QLearningAgent, BayesianQAgent, PSRLAgent, MomentMatchingAgent, UbeNoUnrollAgent\n",
    "from Environments import DeepSea, WideNarrow, PriorMDP\n",
    "from utils import solve_tabular_continuing_PI, run_experiment, run_oracle_experiment, load_agent\n",
    "\n",
    "from tqdm import tqdm_notebook as tqdm"
   ]
  },
  {
   "cell_type": "code",
   "execution_count": 2,
   "metadata": {},
   "outputs": [
    {
     "name": "stdout",
     "output_type": "stream",
     "text": [
      "mkdir: results: File exists\n",
      "mkdir: results/figures: File exists\n",
      "mkdir: results/agent_logs: File exists\n"
     ]
    }
   ],
   "source": [
    "# We will save figures and the agents at the end of training\n",
    "! mkdir results\n",
    "! mkdir results/figures\n",
    "! mkdir results/agent_logs"
   ]
  },
  {
   "cell_type": "code",
   "execution_count": 3,
   "metadata": {},
   "outputs": [],
   "source": [
    "# Plotting parameters\n",
    "matplotlib.rcParams['figure.figsize'] = (8.0, 6.0)\n",
    "\n",
    "plt.rc('xtick', labelsize=16)\n",
    "plt.rc('ytick', labelsize=16)\n",
    "plt.rc('legend', fontsize=16)\n",
    "plt.rc('figure', titlesize=50)"
   ]
  },
  {
   "cell_type": "code",
   "execution_count": 4,
   "metadata": {},
   "outputs": [],
   "source": [
    "# Deepsea constants\n",
    "num_time_steps = 5000\n",
    "save_every = num_time_steps // 100\n",
    "\n",
    "N = 4\n",
    "delta = 1e-1 * np.exp(- N / 4)"
   ]
  },
  {
   "cell_type": "markdown",
   "metadata": {},
   "source": [
    "# QL"
   ]
  },
  {
   "cell_type": "code",
   "execution_count": 10,
   "metadata": {
    "scrolled": true
   },
   "outputs": [
    {
     "data": {
      "application/vnd.jupyter.widget-view+json": {
       "model_id": "91a73f958ac84ad891612677ae769ac0",
       "version_major": 2,
       "version_minor": 0
      },
      "text/plain": [
       "HBox(children=(IntProgress(value=0, max=10), HTML(value='')))"
      ]
     },
     "metadata": {},
     "output_type": "display_data"
    },
    {
     "data": {
      "application/vnd.jupyter.widget-view+json": {
       "model_id": "684e46857fb4410ea070134c4937d265",
       "version_major": 2,
       "version_minor": 0
      },
      "text/plain": [
       "HBox(children=(IntProgress(value=0, max=5001), HTML(value='')))"
      ]
     },
     "metadata": {},
     "output_type": "display_data"
    },
    {
     "name": "stdout",
     "output_type": "stream",
     "text": [
      "\n"
     ]
    },
    {
     "data": {
      "application/vnd.jupyter.widget-view+json": {
       "model_id": "75fbacbba6bd4126ae1b04b54dbff7e1",
       "version_major": 2,
       "version_minor": 0
      },
      "text/plain": [
       "HBox(children=(IntProgress(value=0, max=5001), HTML(value='')))"
      ]
     },
     "metadata": {},
     "output_type": "display_data"
    },
    {
     "name": "stdout",
     "output_type": "stream",
     "text": [
      "\n"
     ]
    },
    {
     "data": {
      "application/vnd.jupyter.widget-view+json": {
       "model_id": "e19e3a08d6d94a46aa506e391c1e57e4",
       "version_major": 2,
       "version_minor": 0
      },
      "text/plain": [
       "HBox(children=(IntProgress(value=0, max=5001), HTML(value='')))"
      ]
     },
     "metadata": {},
     "output_type": "display_data"
    },
    {
     "name": "stdout",
     "output_type": "stream",
     "text": [
      "\n"
     ]
    },
    {
     "data": {
      "application/vnd.jupyter.widget-view+json": {
       "model_id": "02331cac7e7748278fc0f67ed5ed04c9",
       "version_major": 2,
       "version_minor": 0
      },
      "text/plain": [
       "HBox(children=(IntProgress(value=0, max=5001), HTML(value='')))"
      ]
     },
     "metadata": {},
     "output_type": "display_data"
    },
    {
     "name": "stdout",
     "output_type": "stream",
     "text": [
      "\n"
     ]
    },
    {
     "data": {
      "application/vnd.jupyter.widget-view+json": {
       "model_id": "e8f2e0d409694346aeb2cedd26c74488",
       "version_major": 2,
       "version_minor": 0
      },
      "text/plain": [
       "HBox(children=(IntProgress(value=0, max=5001), HTML(value='')))"
      ]
     },
     "metadata": {},
     "output_type": "display_data"
    },
    {
     "name": "stdout",
     "output_type": "stream",
     "text": [
      "\n"
     ]
    },
    {
     "data": {
      "application/vnd.jupyter.widget-view+json": {
       "model_id": "1798f6357eaa4f938ec49dce185afc04",
       "version_major": 2,
       "version_minor": 0
      },
      "text/plain": [
       "HBox(children=(IntProgress(value=0, max=5001), HTML(value='')))"
      ]
     },
     "metadata": {},
     "output_type": "display_data"
    },
    {
     "name": "stdout",
     "output_type": "stream",
     "text": [
      "\n"
     ]
    },
    {
     "data": {
      "application/vnd.jupyter.widget-view+json": {
       "model_id": "b7cd7e81b32c40d2931174d48a8c6f3e",
       "version_major": 2,
       "version_minor": 0
      },
      "text/plain": [
       "HBox(children=(IntProgress(value=0, max=5001), HTML(value='')))"
      ]
     },
     "metadata": {},
     "output_type": "display_data"
    },
    {
     "name": "stdout",
     "output_type": "stream",
     "text": [
      "\n"
     ]
    },
    {
     "data": {
      "application/vnd.jupyter.widget-view+json": {
       "model_id": "2ebc27b3c1f14f318ff6c1899a722245",
       "version_major": 2,
       "version_minor": 0
      },
      "text/plain": [
       "HBox(children=(IntProgress(value=0, max=5001), HTML(value='')))"
      ]
     },
     "metadata": {},
     "output_type": "display_data"
    },
    {
     "name": "stdout",
     "output_type": "stream",
     "text": [
      "\n"
     ]
    },
    {
     "data": {
      "application/vnd.jupyter.widget-view+json": {
       "model_id": "31cb61073de241ffa1394df7219ab25e",
       "version_major": 2,
       "version_minor": 0
      },
      "text/plain": [
       "HBox(children=(IntProgress(value=0, max=5001), HTML(value='')))"
      ]
     },
     "metadata": {},
     "output_type": "display_data"
    },
    {
     "name": "stdout",
     "output_type": "stream",
     "text": [
      "\n"
     ]
    },
    {
     "data": {
      "application/vnd.jupyter.widget-view+json": {
       "model_id": "0959ec57058b46958fd8e44be26aee3a",
       "version_major": 2,
       "version_minor": 0
      },
      "text/plain": [
       "HBox(children=(IntProgress(value=0, max=5001), HTML(value='')))"
      ]
     },
     "metadata": {},
     "output_type": "display_data"
    },
    {
     "name": "stdout",
     "output_type": "stream",
     "text": [
      "\n",
      "\n"
     ]
    }
   ],
   "source": [
    "for seed in tqdm(range(10)):\n",
    "\n",
    "    # Environment constants\n",
    "    rew_params = ((0., delta), (-delta, delta), (1., delta))\n",
    "    env_params = {'N'          :  N,\n",
    "                  'episodic'   :  False,\n",
    "                  'rew_params' :  rew_params}\n",
    "\n",
    "    # Define environment\n",
    "    environment = DeepSea(env_params)\n",
    "    environment.reset()\n",
    "\n",
    "    # Agent constants\n",
    "    agent_params = {'gamma'            : 0.9,\n",
    "                    'dither_mode'      : 'epsilon-greedy',\n",
    "                    'dither_param'     : 0.5,\n",
    "                    'lr'               : 0.1,\n",
    "                    'Q0'               : 0.0,\n",
    "                    'T'                : float('inf'),\n",
    "                    'anneal_timescale' : float('inf'),\n",
    "                    'sa_list'          : environment.sa_list()}\n",
    "\n",
    "    # Define agent\n",
    "    agent = QLearningAgent(agent_params)\n",
    "\n",
    "    # Run experiment\n",
    "    run_experiment(environment=environment,\n",
    "                   agent=agent,\n",
    "                   seed=seed,\n",
    "                   num_time_steps=num_time_steps,\n",
    "                   max_buffer_length=1,\n",
    "                   save_every=save_every)"
   ]
  },
  {
   "cell_type": "code",
   "execution_count": 45,
   "metadata": {},
   "outputs": [],
   "source": [
    "P, R = environment.get_mean_P_and_R()\n",
    "pi, Q = solve_tabular_continuing_PI(P, R, gamma=0.9, max_iter=10)\n",
    "\n",
    "means, stds = [], []\n",
    "\n",
    "# Environment constants\n",
    "rew_params = ((0., delta), (-delta, delta), (1., delta))\n",
    "env_params = {'N'          :  N,\n",
    "              'episodic'   :  False,\n",
    "              'rew_params' :  rew_params}\n",
    "\n",
    "# Define environment\n",
    "environment = DeepSea(env_params)\n",
    "environment.reset()\n",
    "\n",
    "# Agent constants\n",
    "agent_params = {'gamma'            : 0.9,\n",
    "                'dither_mode'      : 'epsilon-greedy',\n",
    "                'dither_param'     : 0.5,\n",
    "                'lr'               : 0.1,\n",
    "                'Q0'               : 0.0,\n",
    "                'anneal_timescale' : float('inf'),\n",
    "                'sa_list'          : environment.sa_list()}\n",
    "\n",
    "agent = load_agent(environment, QLearningAgent(agent_params), seed=seed)\n",
    "\n",
    "for t in np.arange(num_time_steps // save_every):\n",
    "    \n",
    "    means.append([])\n",
    "    \n",
    "    for s in range(4):\n",
    "        \n",
    "        means[-1].append([])\n",
    "        \n",
    "        for a in range(2):\n",
    "            means[-1][-1].append(agent.Qlog[t][s][a])\n",
    "            \n",
    "means = np.array(means)"
   ]
  },
  {
   "cell_type": "code",
   "execution_count": 46,
   "metadata": {},
   "outputs": [
    {
     "data": {
      "image/png": "[encoded data removed]",
      "text/plain": [
       "<Figure size 720x432 with 8 Axes>"
      ]
     },
     "metadata": {
      "needs_background": "light"
     },
     "output_type": "display_data"
    }
   ],
   "source": [
    "fig = plt.figure(figsize=(10, 6))\n",
    "\n",
    "actions = ['left', 'right']\n",
    "leg_names = ['$Q_{\\mathbf{s}, \\mathbf{a}}$', '$Q^*_{\\mathbf{s}, \\mathbf{a}}$']\n",
    "leg = [None] * 2\n",
    "\n",
    "for s in range(4):\n",
    "    for a in range(2):\n",
    "        \n",
    "        plt.subplot(2, 4, s + 4 * a + 1)\n",
    "        leg[0], = plt.plot(np.arange(len(means[:, s, a])) * save_every, means[:, s, a], color='black')\n",
    "        \n",
    "        leg[1], = plt.plot(np.arange(len(means[:, s, a])) * save_every, \n",
    "                          np.ones(len(means[:, s, a])) * Q[s, a], \n",
    "                          '--',\n",
    "                          color='red')\n",
    "        plt.ylim([0, 2])\n",
    "        plt.yticks([0, 1, 2])\n",
    "        plt.xticks([0, num_time_steps // 2, num_time_steps])\n",
    "        plt.xlim([0, num_time_steps])\n",
    "        plt.tight_layout()\n",
    "        \n",
    "        if s > 0:\n",
    "            plt.yticks([])\n",
    "        else:\n",
    "            plt.ylabel('$Q$', fontsize=20)\n",
    "        if a == 0:\n",
    "            plt.xticks([])\n",
    "        else:\n",
    "            plt.xlabel('t', fontsize=20)\n",
    "        \n",
    "        plt.gca().text(num_time_steps // 2,\n",
    "                       1.9,\n",
    "                       r's = {}, {}'.format(s + 1, actions[a]),\n",
    "                       fontsize=15,\n",
    "                       horizontalalignment='center')\n",
    "            \n",
    "        plt.ylim([0, 2.2])\n",
    "            \n",
    "fig.suptitle('QL $Q$-estimates on DeepSea ($\\epsilon = 0.2$, $N = 4$)', fontsize=24)\n",
    "plt.figlegend(leg, leg_names, loc = 'lower center', ncol=2, labelspacing=0., fontsize=20)\n",
    "fig.subplots_adjust(top=0.86, bottom=0.25)\n",
    "# plt.savefig(save_loc + 'ql-posterior-accuracy-deepsea-4.pdf', bbox_inches='tight')\n",
    "plt.show()"
   ]
  },
  {
   "cell_type": "code",
   "execution_count": 47,
   "metadata": {},
   "outputs": [
    {
     "data": {
      "image/png": "[encoded data removed]",
      "text/plain": [
       "<Figure size 432x432 with 1 Axes>"
      ]
     },
     "metadata": {
      "needs_background": "light"
     },
     "output_type": "display_data"
    }
   ],
   "source": [
    "# Environment constants\n",
    "rew_params = ((0., delta), (-delta, delta), (1., delta))\n",
    "env_params = {'N'          :  N,\n",
    "              'episodic'   :  False,\n",
    "              'rew_params' :  rew_params}\n",
    "\n",
    "# Define environment\n",
    "environment = DeepSea(env_params)\n",
    "environment.reset()\n",
    "\n",
    "# Agent constants\n",
    "agent_params = {'gamma'            : 0.9,\n",
    "                'dither_mode'      : 'epsilon-greedy',\n",
    "                'dither_param'     : 0.5,\n",
    "                'lr'               : 0.1,\n",
    "                'Q0'               : 0.0,\n",
    "                'anneal_timescale' : float('inf'),\n",
    "                'sa_list'          : environment.sa_list()}\n",
    "\n",
    "agent_rs, oracle_rs = [], []\n",
    "\n",
    "for seed in range(10):\n",
    "    \n",
    "    # Define agent\n",
    "    agent = load_agent(environment, QLearningAgent(agent_params), seed=seed)\n",
    "    \n",
    "    agent_rs.append(agent.train_r)\n",
    "\n",
    "    oracle_r = run_oracle_experiment(environment=environment,\n",
    "                                     seed=seed,\n",
    "                                     gamma=0.9,\n",
    "                                     num_time_steps=num_time_steps,\n",
    "                                     num_PI_iter=N*2)[2]\n",
    "    \n",
    "    oracle_rs.append(oracle_r)\n",
    "    \n",
    "agent_rs, oracle_rs = np.array(agent_rs), np.array(oracle_rs)\n",
    "\n",
    "regrets = np.cumsum(oracle_rs - agent_rs, axis=-1)\n",
    "means = np.mean(regrets, axis=0)\n",
    "stds = np.var(regrets, axis=0)**0.5\n",
    "\n",
    "plt.figure(figsize=(6, 6))\n",
    "plt.plot(means, color='k')\n",
    "plt.fill_between(np.arange(len(means)), means - stds, means + stds, color='k', alpha=0.2)\n",
    "plt.locator_params(axis='y', nbins=4)\n",
    "plt.locator_params(axis='x', nbins=4)\n",
    "plt.title('QL regret on DeepSea\\n($\\epsilon$ = 0.5, $N = 4$)', fontsize=24)\n",
    "plt.xlabel('Time step $t$', fontsize=22)\n",
    "plt.ylabel('Online cumulative regret', fontsize=22)\n",
    "plt.xlim([0, num_time_steps])\n",
    "plt.ylim([0, 600])\n",
    "# plt.gca().set_ylim(bottom=0, top=300)\n",
    "# plt.savefig(save_loc + 'ql-cumulative-regret-deepsea-4.pdf', bbox_inches='tight')\n",
    "plt.show()"
   ]
  },
  {
   "cell_type": "markdown",
   "metadata": {},
   "source": [
    "# BQL"
   ]
  },
  {
   "cell_type": "code",
   "execution_count": 33,
   "metadata": {
    "scrolled": true
   },
   "outputs": [
    {
     "data": {
      "application/vnd.jupyter.widget-view+json": {
       "model_id": "9a68716840ee4a87aae635c5a253820b",
       "version_major": 2,
       "version_minor": 0
      },
      "text/plain": [
       "HBox(children=(IntProgress(value=0, max=10), HTML(value='')))"
      ]
     },
     "metadata": {},
     "output_type": "display_data"
    },
    {
     "data": {
      "application/vnd.jupyter.widget-view+json": {
       "model_id": "eb64a02cdf204d98b363996116cdaed9",
       "version_major": 2,
       "version_minor": 0
      },
      "text/plain": [
       "HBox(children=(IntProgress(value=0, max=5001), HTML(value='')))"
      ]
     },
     "metadata": {},
     "output_type": "display_data"
    },
    {
     "name": "stdout",
     "output_type": "stream",
     "text": [
      "\n"
     ]
    },
    {
     "data": {
      "application/vnd.jupyter.widget-view+json": {
       "model_id": "db2be2d214d64a3a835d9397383f0e88",
       "version_major": 2,
       "version_minor": 0
      },
      "text/plain": [
       "HBox(children=(IntProgress(value=0, max=5001), HTML(value='')))"
      ]
     },
     "metadata": {},
     "output_type": "display_data"
    },
    {
     "name": "stdout",
     "output_type": "stream",
     "text": [
      "\n"
     ]
    },
    {
     "data": {
      "application/vnd.jupyter.widget-view+json": {
       "model_id": "7374b94624184cb0ab43de875f72000b",
       "version_major": 2,
       "version_minor": 0
      },
      "text/plain": [
       "HBox(children=(IntProgress(value=0, max=5001), HTML(value='')))"
      ]
     },
     "metadata": {},
     "output_type": "display_data"
    },
    {
     "name": "stdout",
     "output_type": "stream",
     "text": [
      "\n"
     ]
    },
    {
     "data": {
      "application/vnd.jupyter.widget-view+json": {
       "model_id": "5471bab88690496d986a64a9ee701ac4",
       "version_major": 2,
       "version_minor": 0
      },
      "text/plain": [
       "HBox(children=(IntProgress(value=0, max=5001), HTML(value='')))"
      ]
     },
     "metadata": {},
     "output_type": "display_data"
    },
    {
     "name": "stdout",
     "output_type": "stream",
     "text": [
      "\n"
     ]
    },
    {
     "data": {
      "application/vnd.jupyter.widget-view+json": {
       "model_id": "0a63b5e516bc4142af44bb3d696aeaf5",
       "version_major": 2,
       "version_minor": 0
      },
      "text/plain": [
       "HBox(children=(IntProgress(value=0, max=5001), HTML(value='')))"
      ]
     },
     "metadata": {},
     "output_type": "display_data"
    },
    {
     "name": "stdout",
     "output_type": "stream",
     "text": [
      "\n"
     ]
    },
    {
     "data": {
      "application/vnd.jupyter.widget-view+json": {
       "model_id": "4fad9bf88c9144b98375ee912da9bff4",
       "version_major": 2,
       "version_minor": 0
      },
      "text/plain": [
       "HBox(children=(IntProgress(value=0, max=5001), HTML(value='')))"
      ]
     },
     "metadata": {},
     "output_type": "display_data"
    },
    {
     "name": "stdout",
     "output_type": "stream",
     "text": [
      "\n"
     ]
    },
    {
     "data": {
      "application/vnd.jupyter.widget-view+json": {
       "model_id": "c84ed65600d2482195af215767be1e97",
       "version_major": 2,
       "version_minor": 0
      },
      "text/plain": [
       "HBox(children=(IntProgress(value=0, max=5001), HTML(value='')))"
      ]
     },
     "metadata": {},
     "output_type": "display_data"
    },
    {
     "name": "stdout",
     "output_type": "stream",
     "text": [
      "\n"
     ]
    },
    {
     "data": {
      "application/vnd.jupyter.widget-view+json": {
       "model_id": "44386836af4c4183b7a1f99f292664eb",
       "version_major": 2,
       "version_minor": 0
      },
      "text/plain": [
       "HBox(children=(IntProgress(value=0, max=5001), HTML(value='')))"
      ]
     },
     "metadata": {},
     "output_type": "display_data"
    },
    {
     "name": "stdout",
     "output_type": "stream",
     "text": [
      "\n"
     ]
    },
    {
     "data": {
      "application/vnd.jupyter.widget-view+json": {
       "model_id": "cbe7235602354d2185b7b6b51b28f6ce",
       "version_major": 2,
       "version_minor": 0
      },
      "text/plain": [
       "HBox(children=(IntProgress(value=0, max=5001), HTML(value='')))"
      ]
     },
     "metadata": {},
     "output_type": "display_data"
    },
    {
     "name": "stdout",
     "output_type": "stream",
     "text": [
      "\n"
     ]
    },
    {
     "data": {
      "application/vnd.jupyter.widget-view+json": {
       "model_id": "45f7b581155848a49817bbde330c3d76",
       "version_major": 2,
       "version_minor": 0
      },
      "text/plain": [
       "HBox(children=(IntProgress(value=0, max=5001), HTML(value='')))"
      ]
     },
     "metadata": {},
     "output_type": "display_data"
    },
    {
     "name": "stdout",
     "output_type": "stream",
     "text": [
      "\n",
      "\n"
     ]
    }
   ],
   "source": [
    "for seed in tqdm(range(10)):\n",
    "\n",
    "    # Environment constants\n",
    "    rew_params = ((0., delta), (-delta, delta), (1., delta))\n",
    "    env_params = {'N'          :  N,\n",
    "                  'episodic'   :  False,\n",
    "                  'rew_params' :  rew_params}\n",
    "\n",
    "    # Define environment\n",
    "    environment = DeepSea(env_params)\n",
    "    environment.reset()\n",
    "\n",
    "    # Agent constants\n",
    "    agent_params = {'gamma'               : 0.9,\n",
    "                    'mu0'                 : 0.0,\n",
    "                    'lamda'               : 1.0,\n",
    "                    'alpha'               : 2.0,\n",
    "                    'beta'                : 2.0,\n",
    "                    'num_mixture_samples' : 1000,\n",
    "                    'sa_list'             : environment.sa_list()}\n",
    "\n",
    "    # Define agent\n",
    "    agent =  BayesianQAgent(agent_params)\n",
    "\n",
    "    # Run experiment\n",
    "    run_experiment(environment=environment,\n",
    "                   agent=agent,\n",
    "                   seed=seed,\n",
    "                   num_time_steps=num_time_steps,\n",
    "                   max_buffer_length=1,\n",
    "                   save_every=save_every)"
   ]
  },
  {
   "cell_type": "code",
   "execution_count": 34,
   "metadata": {},
   "outputs": [],
   "source": [
    "P, R = environment.get_mean_P_and_R()\n",
    "\n",
    "pi, Q = solve_tabular_continuing_PI(P, R, gamma=0.9, max_iter=2*N)\n",
    "\n",
    "means, stds = [], []\n",
    "\n",
    "# Environment constants\n",
    "rew_params = ((0., delta), (-delta, delta), (1., delta))\n",
    "env_params = {'N'          :  N,\n",
    "              'episodic'   :  False,\n",
    "              'rew_params' :  rew_params}\n",
    "\n",
    "# Define environment\n",
    "environment = DeepSea(env_params)\n",
    "environment.reset()\n",
    "\n",
    "# Agent constants\n",
    "agent_params = {'gamma'               : 0.9,\n",
    "                'mu0'                 : 0.0,\n",
    "                'lamda'               : 1.0,\n",
    "                'alpha'               : 2.0,\n",
    "                'beta'                : 2.0,\n",
    "                'T'                   : float('inf'),\n",
    "                'num_mixture_samples' : 1000,\n",
    "                'sa_list'             : environment.sa_list()}\n",
    "\n",
    "agent = load_agent(environment, BayesianQAgent(agent_params), seed=0)\n",
    "\n",
    "for t in np.arange(num_time_steps // save_every):\n",
    "    \n",
    "    means.append([])\n",
    "    stds.append([])\n",
    "    \n",
    "    for s in range(4):\n",
    "        \n",
    "        means[-1].append([])\n",
    "        stds[-1].append([])\n",
    "        \n",
    "        for a in range(2):\n",
    "            mu, lamda, alpha, beta = agent.Qpost_log[t][s][a]\n",
    "            var = beta / (lamda * (alpha - 1))\n",
    "            \n",
    "            means[-1][-1].append(mu)\n",
    "            stds[-1][-1].append(var**0.5)\n",
    "            \n",
    "means, stds = np.array(means), np.array(stds)"
   ]
  },
  {
   "cell_type": "code",
   "execution_count": 35,
   "metadata": {
    "scrolled": false
   },
   "outputs": [
    {
     "data": {
      "image/png": "[encoded data removed]",
      "text/plain": [
       "<Figure size 720x432 with 8 Axes>"
      ]
     },
     "metadata": {
      "needs_background": "light"
     },
     "output_type": "display_data"
    }
   ],
   "source": [
    "fig = plt.figure(figsize=(10, 6))\n",
    "\n",
    "actions = ['left', 'right']\n",
    "leg_names = ['$\\mathbb{E}_{\\\\theta_{\\mathcal{Z}}}[\\mu_z]$',\n",
    "             'Var$_{\\\\theta_{\\mathcal{Z}}}[\\mu_z]^{1/2}$',\n",
    "             '$Q^*_{\\mathbf{s}, \\mathbf{a}}$']\n",
    "leg = [None] * 3\n",
    "\n",
    "for s in range(4):\n",
    "    for a in range(2):\n",
    "        \n",
    "        plt.subplot(2, 4, s + 4 * a + 1)\n",
    "        leg[0], = plt.plot(np.arange(len(means[:, s, a])) * save_every, means[:, s, a], color='purple')\n",
    "        leg[1] = plt.fill_between(np.arange(len(means[:, s, a])) * save_every, \n",
    "                                   means[:, s, a] + stds[:, s, a],\n",
    "                                   means[:, s, a] - stds[:, s, a],\n",
    "                                   color='purple', alpha=0.2)\n",
    "        \n",
    "        leg[2], = plt.plot(np.arange(len(means[:, s, a])) * save_every,\n",
    "                          np.ones(len(means[:, s, a])) * Q[s, a], \n",
    "                          '--',\n",
    "                          color='red')\n",
    "        plt.ylim([0, 2])\n",
    "        plt.yticks([0, 1, 2])\n",
    "        plt.xlim([0, len(means[:, s, a])])\n",
    "        plt.xticks([0, num_time_steps // 2, num_time_steps])\n",
    "        plt.tight_layout()\n",
    "        \n",
    "        if s > 0:\n",
    "            plt.yticks([])\n",
    "        else:\n",
    "            plt.ylabel('z', fontsize=20)\n",
    "        if a == 0:\n",
    "            plt.xticks([])\n",
    "        else:\n",
    "            plt.xlabel('t', fontsize=20)\n",
    "        \n",
    "        plt.gca().text(num_time_steps // 2,\n",
    "                       1.9,\n",
    "                       r's = {}, {}'.format(s + 1, actions[a]),\n",
    "                       fontsize=15,\n",
    "                       horizontalalignment='center')            \n",
    "        plt.ylim([0, 2.2])\n",
    "            \n",
    "            \n",
    "fig.suptitle('BQL posterior on DeepSea ($\\mu_0 = 0.0$, $N = 4$)', fontsize=24)\n",
    "plt.figlegend(leg, leg_names, loc = 'lower center', ncol=3, labelspacing=0., fontsize=20)\n",
    "fig.subplots_adjust(top=0.86, bottom=0.25)\n",
    "# plt.savefig(save_loc + 'bql-posterior-accuracy-deepsea-4-1_5.pdf', bbox_inches='tight')\n",
    "plt.show()"
   ]
  },
  {
   "cell_type": "code",
   "execution_count": 36,
   "metadata": {},
   "outputs": [
    {
     "data": {
      "image/png": "[encoded data removed]",
      "text/plain": [
       "<Figure size 432x432 with 1 Axes>"
      ]
     },
     "metadata": {
      "needs_background": "light"
     },
     "output_type": "display_data"
    }
   ],
   "source": [
    "color = 'purple'\n",
    "\n",
    "# Environment constants\n",
    "rew_params = ((0., delta), (-delta, delta), (1., delta))\n",
    "env_params = {'N'          :  N,\n",
    "              'episodic'   :  False,\n",
    "              'rew_params' :  rew_params}\n",
    "\n",
    "# Define environment\n",
    "environment = DeepSea(env_params)\n",
    "environment.reset()\n",
    "\n",
    "# Agent constants\n",
    "agent_params = {'gamma'               : 0.9,\n",
    "                'mu0'                 : 0.0,\n",
    "                'lamda'               : 1.0,\n",
    "                'alpha'               : 2.0,\n",
    "                'beta'                : 2.0,\n",
    "                'T'                   : float('inf'),\n",
    "                'num_mixture_samples' : 1000,\n",
    "                'sa_list'             : environment.sa_list()}\n",
    "\n",
    "\n",
    "agent_rs, oracle_rs = [], []\n",
    "\n",
    "for seed in range(10):\n",
    "    \n",
    "    # Define agent\n",
    "    agent = load_agent(environment, BayesianQAgent(agent_params), seed=seed)\n",
    "    \n",
    "    agent_rs.append(agent.train_r)\n",
    "\n",
    "    oracle_r = run_oracle_experiment(environment=environment,\n",
    "                                     seed=seed,\n",
    "                                     gamma=0.9,\n",
    "                                     num_time_steps=num_time_steps,\n",
    "                                     num_PI_iter=N*2)[2]\n",
    "    \n",
    "    oracle_rs.append(oracle_r)\n",
    "    \n",
    "agent_rs, oracle_rs = np.array(agent_rs), np.array(oracle_rs)\n",
    "\n",
    "regrets = np.cumsum(oracle_rs - agent_rs, axis=-1)\n",
    "means = np.mean(regrets, axis=0)\n",
    "stds = np.var(regrets, axis=0)**0.5\n",
    "\n",
    "plt.figure(figsize=(6, 6))\n",
    "plt.plot(means, color=color)\n",
    "plt.fill_between(np.arange(len(means)), means - stds, means + stds, color=color, alpha=0.2)\n",
    "plt.locator_params(axis='y', nbins=4)\n",
    "plt.locator_params(axis='x', nbins=4)\n",
    "plt.title('BQL regret on DeepSea\\n($\\mu_0$ = 1.5, $N = 4$)', fontsize=24)\n",
    "plt.xlabel('Time step $t$', fontsize=22)\n",
    "plt.ylabel('Online cumulative regret', fontsize=22)\n",
    "plt.xlim([0, num_time_steps])\n",
    "plt.xticks([0, num_time_steps // 2, num_time_steps])\n",
    "plt.gca().set_ylim(bottom=0, top=300)\n",
    "# plt.savefig(save_loc + 'bql-cumulative-regret-deepsea-4-1_5.pdf', bbox_inches='tight')\n",
    "plt.show()"
   ]
  },
  {
   "cell_type": "markdown",
   "metadata": {},
   "source": [
    "# PSRL"
   ]
  },
  {
   "cell_type": "code",
   "execution_count": 91,
   "metadata": {
    "scrolled": true
   },
   "outputs": [
    {
     "data": {
      "application/vnd.jupyter.widget-view+json": {
       "model_id": "b68cad3d6ed74a66b820bf742a0b8f71",
       "version_major": 2,
       "version_minor": 0
      },
      "text/plain": [
       "HBox(children=(IntProgress(value=0, max=10), HTML(value='')))"
      ]
     },
     "metadata": {},
     "output_type": "display_data"
    },
    {
     "data": {
      "application/vnd.jupyter.widget-view+json": {
       "model_id": "9cf74ffaa8e542fdb152de9d7ce99d1c",
       "version_major": 2,
       "version_minor": 0
      },
      "text/plain": [
       "HBox(children=(IntProgress(value=0, max=5001), HTML(value='')))"
      ]
     },
     "metadata": {},
     "output_type": "display_data"
    },
    {
     "name": "stdout",
     "output_type": "stream",
     "text": [
      "\n"
     ]
    },
    {
     "data": {
      "application/vnd.jupyter.widget-view+json": {
       "model_id": "e08d30d25ef0462d96ebdca6b176f2bd",
       "version_major": 2,
       "version_minor": 0
      },
      "text/plain": [
       "HBox(children=(IntProgress(value=0, max=5001), HTML(value='')))"
      ]
     },
     "metadata": {},
     "output_type": "display_data"
    },
    {
     "name": "stdout",
     "output_type": "stream",
     "text": [
      "\n"
     ]
    },
    {
     "data": {
      "application/vnd.jupyter.widget-view+json": {
       "model_id": "083e597c8ad14357924c3708a2452149",
       "version_major": 2,
       "version_minor": 0
      },
      "text/plain": [
       "HBox(children=(IntProgress(value=0, max=5001), HTML(value='')))"
      ]
     },
     "metadata": {},
     "output_type": "display_data"
    },
    {
     "name": "stdout",
     "output_type": "stream",
     "text": [
      "\n"
     ]
    },
    {
     "data": {
      "application/vnd.jupyter.widget-view+json": {
       "model_id": "20d11990742c45e58c355a31690afe2b",
       "version_major": 2,
       "version_minor": 0
      },
      "text/plain": [
       "HBox(children=(IntProgress(value=0, max=5001), HTML(value='')))"
      ]
     },
     "metadata": {},
     "output_type": "display_data"
    },
    {
     "name": "stdout",
     "output_type": "stream",
     "text": [
      "\n"
     ]
    },
    {
     "data": {
      "application/vnd.jupyter.widget-view+json": {
       "model_id": "1aa48c9060e948239e1014f09f69155a",
       "version_major": 2,
       "version_minor": 0
      },
      "text/plain": [
       "HBox(children=(IntProgress(value=0, max=5001), HTML(value='')))"
      ]
     },
     "metadata": {},
     "output_type": "display_data"
    },
    {
     "name": "stdout",
     "output_type": "stream",
     "text": [
      "\n"
     ]
    },
    {
     "data": {
      "application/vnd.jupyter.widget-view+json": {
       "model_id": "210ba46b552740f8a2589f8113c60ef9",
       "version_major": 2,
       "version_minor": 0
      },
      "text/plain": [
       "HBox(children=(IntProgress(value=0, max=5001), HTML(value='')))"
      ]
     },
     "metadata": {},
     "output_type": "display_data"
    },
    {
     "name": "stdout",
     "output_type": "stream",
     "text": [
      "\n"
     ]
    },
    {
     "data": {
      "application/vnd.jupyter.widget-view+json": {
       "model_id": "39c82e54be8a4c5db429898a9a46e41e",
       "version_major": 2,
       "version_minor": 0
      },
      "text/plain": [
       "HBox(children=(IntProgress(value=0, max=5001), HTML(value='')))"
      ]
     },
     "metadata": {},
     "output_type": "display_data"
    },
    {
     "name": "stdout",
     "output_type": "stream",
     "text": [
      "\n"
     ]
    },
    {
     "data": {
      "application/vnd.jupyter.widget-view+json": {
       "model_id": "2a9938d9bab145fe86829385bc990b12",
       "version_major": 2,
       "version_minor": 0
      },
      "text/plain": [
       "HBox(children=(IntProgress(value=0, max=5001), HTML(value='')))"
      ]
     },
     "metadata": {},
     "output_type": "display_data"
    },
    {
     "name": "stdout",
     "output_type": "stream",
     "text": [
      "\n"
     ]
    },
    {
     "data": {
      "application/vnd.jupyter.widget-view+json": {
       "model_id": "334805f9767c4075833d8d11ce8e965a",
       "version_major": 2,
       "version_minor": 0
      },
      "text/plain": [
       "HBox(children=(IntProgress(value=0, max=5001), HTML(value='')))"
      ]
     },
     "metadata": {},
     "output_type": "display_data"
    },
    {
     "name": "stdout",
     "output_type": "stream",
     "text": [
      "\n"
     ]
    },
    {
     "data": {
      "application/vnd.jupyter.widget-view+json": {
       "model_id": "b2c7625b3ba34871b442c1a11451c7e9",
       "version_major": 2,
       "version_minor": 0
      },
      "text/plain": [
       "HBox(children=(IntProgress(value=0, max=5001), HTML(value='')))"
      ]
     },
     "metadata": {},
     "output_type": "display_data"
    },
    {
     "name": "stdout",
     "output_type": "stream",
     "text": [
      "\n",
      "\n"
     ]
    }
   ],
   "source": [
    "for seed in tqdm(range(10)):\n",
    "\n",
    "    # Environment constants\n",
    "    rew_params = ((0., delta), (-delta, delta), (1., delta))\n",
    "    env_params = {'N'          :  N,\n",
    "                  'episodic'   :  False,\n",
    "                  'rew_params' :  rew_params}\n",
    "\n",
    "    # Define environment\n",
    "    environment = DeepSea(env_params)\n",
    "    environment.reset()\n",
    "\n",
    "    # Agent constants\n",
    "    agent_params = {'gamma'            : 0.9,\n",
    "                    'kappa'            : 1.0,\n",
    "                    'mu0'              : 0.0,\n",
    "                    'lamda'            : 1.0,\n",
    "                    'alpha'            : 2.0,\n",
    "                    'beta'             : 2.0,\n",
    "                    'max_iter'         : 2*N,\n",
    "                    'sa_list'          : environment.sa_list()}\n",
    "\n",
    "    # Define agent\n",
    "    agent = PSRLAgent(agent_params)\n",
    "\n",
    "    # Run experiment\n",
    "    run_experiment(environment=environment,\n",
    "                   agent=agent,\n",
    "                   seed=seed,\n",
    "                   num_time_steps=num_time_steps,\n",
    "                   max_buffer_length=N,\n",
    "                   save_every=save_every)"
   ]
  },
  {
   "cell_type": "code",
   "execution_count": 94,
   "metadata": {},
   "outputs": [],
   "source": [
    "P, R = environment.get_mean_P_and_R()\n",
    "\n",
    "pi, Q = solve_tabular_continuing_PI(P, R, gamma=0.9, max_iter=2*N)\n",
    "\n",
    "means = []\n",
    "\n",
    "# Environment constants\n",
    "rew_params = ((0., delta), (-delta, delta), (1., delta))\n",
    "env_params = {'N'          :  N,\n",
    "              'episodic'   :  False,\n",
    "              'rew_params' :  rew_params}\n",
    "\n",
    "# Define environment\n",
    "environment = DeepSea(env_params)\n",
    "environment.reset()\n",
    "\n",
    "# Agent constants\n",
    "agent_params = {'gamma'            : 0.9,\n",
    "                'kappa'            : 1.0,\n",
    "                'mu0'              : 0.0,\n",
    "                'lamda'            : 1.0,\n",
    "                'alpha'            : 2.0,\n",
    "                'beta'             : 2.0,\n",
    "                'max_iter'         : 2*N,\n",
    "                'sa_list'          : environment.sa_list()}\n",
    "\n",
    "agent = load_agent(environment, PSRLAgent(agent_params), seed=0)\n",
    "\n",
    "for t in np.arange(num_time_steps // save_every):\n",
    "          \n",
    "    means.append([])\n",
    "    \n",
    "    for i in range(100):\n",
    "        agent.Ppost, agent.Rpost = agent.Ppost_log[t], agent.Rpost_log[t]\n",
    "        P, R = agent.sample_posterior()\n",
    "        pi, Q_ = solve_tabular_continuing_PI(P, R, gamma=0.9, max_iter=2*N)\n",
    "        means[-1].append(Q_)\n",
    "            \n",
    "means = np.array(means)\n",
    "\n",
    "stds = np.var(means, axis=1)**0.5\n",
    "means = np.mean(means, axis=1)"
   ]
  },
  {
   "cell_type": "code",
   "execution_count": 96,
   "metadata": {
    "scrolled": false
   },
   "outputs": [
    {
     "data": {
      "image/png": "[encoded data removed]",
      "text/plain": [
       "<Figure size 720x432 with 8 Axes>"
      ]
     },
     "metadata": {
      "needs_background": "light"
     },
     "output_type": "display_data"
    }
   ],
   "source": [
    "P, R = environment.get_mean_P_and_R()\n",
    "\n",
    "pi, Q = solve_tabular_continuing_PI(P, R, gamma=0.9, max_iter=4*N)\n",
    "\n",
    "fig = plt.figure(figsize=(10, 6))\n",
    "\n",
    "color = 'orange'\n",
    "actions = ['left', 'right']\n",
    "leg_names = ['$\\mathbb{E}_{\\\\theta_{\\mathcal{T}}, \\\\theta_{\\mathcal{R}}}~[\\hat{Q}^*_{\\mathbf{s}, \\mathbf{a}}]$',\n",
    "             'Var$_{\\\\theta_{\\mathcal{T}}, \\\\theta_{\\mathcal{R}}}[\\hat{Q}^*_{\\mathbf{s}, \\mathbf{a}}]^{1/2}$',\n",
    "             '$Q^*_{\\mathbf{s}, \\mathbf{a}}$']\n",
    "leg = [None] * 3\n",
    "\n",
    "for s in range(4):\n",
    "    for a in range(2):\n",
    "        \n",
    "        plt.subplot(2, 4, s + 4 * a + 1)\n",
    "        leg[0], = plt.plot(np.arange(len(means[:, s, a])) * save_every,\n",
    "                           means[:, s, a],\n",
    "                           color=color)\n",
    "        leg[1] = plt.fill_between(np.arange(len(means[:, s, a])) * save_every,\n",
    "                                   means[:, s, a] + stds[:, s, a],\n",
    "                                   means[:, s, a] - stds[:, s, a],\n",
    "                                   color=color, alpha=0.2)\n",
    "        \n",
    "        leg[2], = plt.plot(np.arange(len(means[:, s, a])) * save_every, \n",
    "                          np.ones(len(means[:, s, a])) * Q[s, a], \n",
    "                          '--',\n",
    "                          color='red')\n",
    "        plt.ylim([0, 2])\n",
    "        plt.yticks([0, 1, 2])\n",
    "        plt.xlim([0, len(means[:, s, a])])\n",
    "        plt.xticks([0, num_time_steps // 2, num_time_steps])\n",
    "        plt.tight_layout()\n",
    "        \n",
    "        if s > 0:\n",
    "            plt.yticks([])\n",
    "        else:\n",
    "            plt.ylabel('z', fontsize=20)\n",
    "        if a == 0:\n",
    "            plt.xticks([])\n",
    "        else:\n",
    "            plt.xlabel('t', fontsize=20)\n",
    "        \n",
    "        plt.gca().text(num_time_steps // 2, 1.9, r's = {}, {}'.format(s + 1, actions[a]),\n",
    "                       fontsize=15, horizontalalignment='center')            \n",
    "        plt.ylim([0, 2.2])\n",
    "            \n",
    "            \n",
    "fig.suptitle('PSRL posterior on DeepSea ($N = 4$)', fontsize=24)\n",
    "plt.figlegend(leg, leg_names, loc = 'lower center', ncol=3, labelspacing=0., fontsize=20)\n",
    "fig.subplots_adjust(top=0.86, bottom=0.25)\n",
    "# plt.savefig(save_loc + 'psrl-posterior-accuracy-deepsea-4.pdf', bbox_inches='tight')\n",
    "plt.show()"
   ]
  },
  {
   "cell_type": "code",
   "execution_count": 97,
   "metadata": {},
   "outputs": [
    {
     "data": {
      "image/png": "[encoded data removed]",
      "text/plain": [
       "<Figure size 432x432 with 1 Axes>"
      ]
     },
     "metadata": {
      "needs_background": "light"
     },
     "output_type": "display_data"
    }
   ],
   "source": [
    "color = 'orange'\n",
    "\n",
    "# Environment constants\n",
    "rew_params = ((0., delta), (-delta, delta), (1., delta))\n",
    "env_params = {'N'          :  N,\n",
    "              'episodic'   :  False,\n",
    "              'rew_params' :  rew_params}\n",
    "\n",
    "# Define environment\n",
    "environment = DeepSea(env_params)\n",
    "environment.reset()\n",
    "\n",
    "# Agent constants\n",
    "agent_params = {'gamma'            : 0.9,\n",
    "                'kappa'            : 1.0,\n",
    "                'mu0'              : 0.0,\n",
    "                'lamda'            : 1.0,\n",
    "                'alpha'            : 2.0,\n",
    "                'beta'             : 2.0,\n",
    "                'max_iter'         : 2*N,\n",
    "                'sa_list'          : environment.sa_list()}\n",
    "\n",
    "agent_rs, oracle_rs = [], []\n",
    "\n",
    "for seed in range(10):\n",
    "    \n",
    "    # Define agent\n",
    "    agent = PSRLAgent(agent_params)\n",
    "    agent = load_agent(environment, agent, seed=seed)\n",
    "    \n",
    "    agent_rs.append(agent.train_r)\n",
    "\n",
    "    oracle_r = run_oracle_experiment(environment=environment,\n",
    "                                     seed=seed,\n",
    "                                     gamma=0.9,\n",
    "                                     num_time_steps=num_time_steps,\n",
    "                                     num_PI_iter=N*2)[2]\n",
    "    \n",
    "    oracle_rs.append(oracle_r)\n",
    "    \n",
    "agent_rs, oracle_rs = np.array(agent_rs), np.array(oracle_rs)\n",
    "\n",
    "regrets = np.cumsum(oracle_rs - agent_rs, axis=-1)\n",
    "means = np.mean(regrets, axis=0)\n",
    "stds = np.var(regrets, axis=0)**0.5\n",
    "\n",
    "plt.figure(figsize=(6, 6))\n",
    "plt.plot(means, color=color)\n",
    "plt.fill_between(np.arange(len(means)), means - stds, means + stds, color=color, alpha=0.2)\n",
    "plt.locator_params(axis='y', nbins=4)\n",
    "plt.locator_params(axis='x', nbins=4)\n",
    "plt.title('PSRL regret on DeepSea\\n($N = 4$)', fontsize=24)\n",
    "plt.xlabel('Time step $t$', fontsize=22)\n",
    "plt.ylabel('Online cumulative regret', fontsize=22)\n",
    "plt.xlim([0, num_time_steps])\n",
    "plt.xticks([0, num_time_steps // 2, num_time_steps])\n",
    "plt.gca().set_ylim(bottom=0, top=300)\n",
    "# plt.savefig(save_loc + 'psrl-cumulative-regret-deepsea-4.pdf', bbox_inches='tight')\n",
    "plt.show()"
   ]
  },
  {
   "cell_type": "markdown",
   "metadata": {},
   "source": [
    "# UBE"
   ]
  },
  {
   "cell_type": "code",
   "execution_count": 5,
   "metadata": {},
   "outputs": [
    {
     "data": {
      "application/vnd.jupyter.widget-view+json": {
       "model_id": "8f03f5b3096f4f089d01538d6bbde599",
       "version_major": 2,
       "version_minor": 0
      },
      "text/plain": [
       "HBox(children=(IntProgress(value=0, max=10), HTML(value='')))"
      ]
     },
     "metadata": {},
     "output_type": "display_data"
    },
    {
     "data": {
      "application/vnd.jupyter.widget-view+json": {
       "model_id": "b7e06ca78e5e48e1bd29ca49c9a1df15",
       "version_major": 2,
       "version_minor": 0
      },
      "text/plain": [
       "HBox(children=(IntProgress(value=0, max=5001), HTML(value='')))"
      ]
     },
     "metadata": {},
     "output_type": "display_data"
    },
    {
     "name": "stdout",
     "output_type": "stream",
     "text": [
      "\n"
     ]
    },
    {
     "data": {
      "application/vnd.jupyter.widget-view+json": {
       "model_id": "ef59df0e16084c91be11c0559031411e",
       "version_major": 2,
       "version_minor": 0
      },
      "text/plain": [
       "HBox(children=(IntProgress(value=0, max=5001), HTML(value='')))"
      ]
     },
     "metadata": {},
     "output_type": "display_data"
    },
    {
     "name": "stdout",
     "output_type": "stream",
     "text": [
      "\n"
     ]
    },
    {
     "data": {
      "application/vnd.jupyter.widget-view+json": {
       "model_id": "43004e945fef485cbe9bfb31d17a35f3",
       "version_major": 2,
       "version_minor": 0
      },
      "text/plain": [
       "HBox(children=(IntProgress(value=0, max=5001), HTML(value='')))"
      ]
     },
     "metadata": {},
     "output_type": "display_data"
    },
    {
     "name": "stdout",
     "output_type": "stream",
     "text": [
      "\n"
     ]
    },
    {
     "data": {
      "application/vnd.jupyter.widget-view+json": {
       "model_id": "a29b25f28466491c8715717a2d098ad9",
       "version_major": 2,
       "version_minor": 0
      },
      "text/plain": [
       "HBox(children=(IntProgress(value=0, max=5001), HTML(value='')))"
      ]
     },
     "metadata": {},
     "output_type": "display_data"
    },
    {
     "name": "stdout",
     "output_type": "stream",
     "text": [
      "\n"
     ]
    },
    {
     "data": {
      "application/vnd.jupyter.widget-view+json": {
       "model_id": "b364ebc33bed4a338177846aadb634ad",
       "version_major": 2,
       "version_minor": 0
      },
      "text/plain": [
       "HBox(children=(IntProgress(value=0, max=5001), HTML(value='')))"
      ]
     },
     "metadata": {},
     "output_type": "display_data"
    },
    {
     "name": "stdout",
     "output_type": "stream",
     "text": [
      "\n"
     ]
    },
    {
     "data": {
      "application/vnd.jupyter.widget-view+json": {
       "model_id": "dc600c967eb14672857a9cf4e2aba095",
       "version_major": 2,
       "version_minor": 0
      },
      "text/plain": [
       "HBox(children=(IntProgress(value=0, max=5001), HTML(value='')))"
      ]
     },
     "metadata": {},
     "output_type": "display_data"
    },
    {
     "name": "stdout",
     "output_type": "stream",
     "text": [
      "\n"
     ]
    },
    {
     "data": {
      "application/vnd.jupyter.widget-view+json": {
       "model_id": "7a06d8f7877445f5ad980c8f3187957d",
       "version_major": 2,
       "version_minor": 0
      },
      "text/plain": [
       "HBox(children=(IntProgress(value=0, max=5001), HTML(value='')))"
      ]
     },
     "metadata": {},
     "output_type": "display_data"
    },
    {
     "name": "stdout",
     "output_type": "stream",
     "text": [
      "\n"
     ]
    },
    {
     "data": {
      "application/vnd.jupyter.widget-view+json": {
       "model_id": "e19cf61f5bf14b7484a8367e84869f43",
       "version_major": 2,
       "version_minor": 0
      },
      "text/plain": [
       "HBox(children=(IntProgress(value=0, max=5001), HTML(value='')))"
      ]
     },
     "metadata": {},
     "output_type": "display_data"
    },
    {
     "name": "stdout",
     "output_type": "stream",
     "text": [
      "\n"
     ]
    },
    {
     "data": {
      "application/vnd.jupyter.widget-view+json": {
       "model_id": "8dddf00bf4394b7eb11d6f4e3f80f3b7",
       "version_major": 2,
       "version_minor": 0
      },
      "text/plain": [
       "HBox(children=(IntProgress(value=0, max=5001), HTML(value='')))"
      ]
     },
     "metadata": {},
     "output_type": "display_data"
    },
    {
     "name": "stdout",
     "output_type": "stream",
     "text": [
      "\n"
     ]
    },
    {
     "data": {
      "application/vnd.jupyter.widget-view+json": {
       "model_id": "7b8ee3a8b7ce44508b29385b48354e4e",
       "version_major": 2,
       "version_minor": 0
      },
      "text/plain": [
       "HBox(children=(IntProgress(value=0, max=5001), HTML(value='')))"
      ]
     },
     "metadata": {},
     "output_type": "display_data"
    },
    {
     "name": "stdout",
     "output_type": "stream",
     "text": [
      "\n",
      "\n"
     ]
    }
   ],
   "source": [
    "for seed in tqdm(range(10)):\n",
    "\n",
    "    # Environment constants\n",
    "    rew_params = ((0., delta), (-delta, delta), (1., delta))\n",
    "    env_params = {'N'          :  N,\n",
    "                  'episodic'   :  False,\n",
    "                  'rew_params' :  rew_params}\n",
    "\n",
    "    # Define environment\n",
    "    environment = DeepSea(env_params)\n",
    "    environment.reset()\n",
    "    \n",
    "    Rmax = environment.get_mean_P_and_R()[1].max()\n",
    "\n",
    "    # Agent constants\n",
    "    agent_params = {'gamma'            : 0.9,\n",
    "                    'kappa'            : 1.0,\n",
    "                    'mu0'              : 0.0,\n",
    "                    'lamda'            : 1.0,\n",
    "                    'alpha'            : 2.0,\n",
    "                    'beta'             : 2.0,\n",
    "                    'Rmax'             : Rmax,\n",
    "                    'max_iter'         : 40,\n",
    "                    'zeta'             : 1.0,\n",
    "                    'num_dyn_samples'  : 100,\n",
    "                    'sa_list'          : environment.sa_list()}\n",
    "\n",
    "\n",
    "    # Define agent\n",
    "    agent = UbeNoUnrollAgent(agent_params)\n",
    "\n",
    "    # Run experiment\n",
    "    run_experiment(environment=environment,\n",
    "                   agent=agent,\n",
    "                   seed=seed,\n",
    "                   num_time_steps=num_time_steps,\n",
    "                   max_buffer_length=N,\n",
    "                   save_every=save_every)"
   ]
  },
  {
   "cell_type": "code",
   "execution_count": 12,
   "metadata": {},
   "outputs": [],
   "source": [
    "P, R = environment.get_mean_P_and_R()\n",
    "\n",
    "pi, Q = solve_tabular_continuing_PI(P, R, gamma=0.9, max_iter=100)\n",
    "\n",
    "means, stds = [], []\n",
    "\n",
    "# Environment constants\n",
    "rew_params = ((0., delta), (-delta, delta), (1., delta))\n",
    "env_params = {'N'          :  N,\n",
    "              'episodic'   :  False,\n",
    "              'rew_params' :  rew_params}\n",
    "\n",
    "# Define environment\n",
    "environment = DeepSea(env_params)\n",
    "environment.reset()\n",
    "\n",
    "# Agent constants\n",
    "agent_params = {'gamma'            : 0.9,\n",
    "                'kappa'            : 1.0,\n",
    "                'mu0'              : 0.0,\n",
    "                'lamda'            : 1.0,\n",
    "                'alpha'            : 2.0,\n",
    "                'beta'             : 2.0,\n",
    "                'Rmax'             : 1.0,\n",
    "                'max_iter'         : 2*N,\n",
    "                'zeta'             : 1.0,\n",
    "                'num_dyn_samples'  : 100,\n",
    "                'sa_list'          : environment.sa_list()}\n",
    "\n",
    "agent_rs, oracle_rs = [], []\n",
    "\n",
    "agent = load_agent(environment, UbeNoUnrollAgent(agent_params), seed=0)\n",
    "\n",
    "for t in np.arange(num_time_steps // save_every):\n",
    "                \n",
    "    means.append(agent.Qmu_log[t])\n",
    "    stds.append(agent.Qvar_log[t]**0.5)\n",
    "            \n",
    "means = np.array(means)\n",
    "stds = np.array(stds)"
   ]
  },
  {
   "cell_type": "code",
   "execution_count": 13,
   "metadata": {
    "scrolled": false
   },
   "outputs": [
    {
     "data": {
      "image/png": "[encoded data removed]",
      "text/plain": [
       "<Figure size 720x432 with 8 Axes>"
      ]
     },
     "metadata": {
      "needs_background": "light"
     },
     "output_type": "display_data"
    }
   ],
   "source": [
    "fig = plt.figure(figsize=(10, 6))\n",
    "\n",
    "color = 'green'\n",
    "actions = ['left', 'right']\n",
    "leg_names = ['$\\mathbb{E}_{\\\\theta_{\\mathcal{T}}, \\\\theta_{\\mathcal{R}}}\\mu_{z_{\\mathbf{s}, \\mathbf{a}}}$',\n",
    "             '$u^{1/2}_{\\mathbf{s}, \\mathbf{a}}$',\n",
    "             '$Q^*_{\\mathbf{s}, \\mathbf{a}}$']\n",
    "\n",
    "leg = [None] * 3\n",
    "\n",
    "for s in range(4):\n",
    "    for a in range(2):\n",
    "        \n",
    "        plt.subplot(2, 4, s + 4 * a + 1)\n",
    "        leg[0], = plt.plot(np.arange(len(means[:, s, a])) * save_every,\n",
    "                           means[:, s, a],\n",
    "                           color=color)\n",
    "        leg[1] = plt.fill_between(np.arange(len(means[:, s, a])) * save_every,\n",
    "                                   means[:, s, a] + stds[:, s, a],\n",
    "                                   means[:, s, a] - stds[:, s, a],\n",
    "                                   color=color, alpha=0.2)\n",
    "        \n",
    "        leg[2], = plt.plot(np.arange(len(means[:, s, a])) * save_every, \n",
    "                           np.ones(len(means[:, s, a])) * Q[s, a], \n",
    "                           '--',\n",
    "                           color='red')\n",
    "          \n",
    "        plt.ylim([-8, 8])\n",
    "        plt.yticks([-8, 0, 8])\n",
    "        plt.xlim([0, len(means[:, s, a])])\n",
    "        plt.xticks([0, 2000, 4000])\n",
    "        plt.tight_layout()\n",
    "        \n",
    "        if s > 0:\n",
    "            plt.yticks([])\n",
    "        else:\n",
    "            plt.ylabel('z', fontsize=20)\n",
    "        if a == 0:\n",
    "            plt.xticks([])\n",
    "        else:\n",
    "            plt.xlabel('t', fontsize=20)\n",
    "        \n",
    "        plt.gca().text(2000, 6, r's = {}, {}'.format(s + 1, actions[a]),\n",
    "                       fontsize=15, horizontalalignment='center')          \n",
    "            \n",
    "            \n",
    "fig.suptitle('UBE posterior on DeepSea ($\\zeta = 1.00$, $N = 4$)', fontsize=24)\n",
    "plt.figlegend(leg, leg_names, loc = 'lower center', ncol=3, labelspacing=0., fontsize=20)\n",
    "fig.subplots_adjust(top=0.86, bottom=0.25)\n",
    "# plt.savefig(save_loc + 'ube-posterior-accuracy-deepsea-4-1_00.pdf', bbox_inches='tight')\n",
    "plt.show()"
   ]
  },
  {
   "cell_type": "code",
   "execution_count": 18,
   "metadata": {
    "scrolled": false
   },
   "outputs": [
    {
     "data": {
      "image/png": "[encoded data removed]",
      "text/plain": [
       "<Figure size 432x432 with 1 Axes>"
      ]
     },
     "metadata": {
      "needs_background": "light"
     },
     "output_type": "display_data"
    }
   ],
   "source": [
    "color = 'green'\n",
    "\n",
    "# Environment constants\n",
    "rew_params = ((0., delta), (-delta, delta), (1., delta))\n",
    "env_params = {'N'          :  N,\n",
    "              'episodic'   :  False,\n",
    "              'rew_params' :  rew_params}\n",
    "\n",
    "# Define environment\n",
    "environment = DeepSea(env_params)\n",
    "environment.reset()\n",
    "\n",
    "# Agent constants\n",
    "agent_params = {'gamma'            : 0.9,\n",
    "                'kappa'            : 1.0,\n",
    "                'mu0'              : 0.0,\n",
    "                'lamda'            : 1.0,\n",
    "                'alpha'            : 2.0,\n",
    "                'beta'             : 2.0,\n",
    "                'Rmax'             : 1.0,\n",
    "                'max_iter'         : 2*N,\n",
    "                'zeta'             : 1.0,\n",
    "                'num_dyn_samples'  : 100,\n",
    "                'sa_list'          : environment.sa_list()}\n",
    "\n",
    "\n",
    "agent_rs, oracle_rs = [], []\n",
    "\n",
    "for seed in range(10):\n",
    "    \n",
    "    # Define agent\n",
    "    agent = load_agent(environment, UbeNoUnrollAgent(agent_params), seed=seed)\n",
    "    \n",
    "    agent_rs.append(agent.train_r)\n",
    "\n",
    "    oracle_r = run_oracle_experiment(environment=environment,\n",
    "                                     seed=seed,\n",
    "                                     gamma=0.9,\n",
    "                                     num_time_steps=num_time_steps,\n",
    "                                     num_PI_iter=2*N)[2]\n",
    "    \n",
    "    oracle_rs.append(oracle_r)\n",
    "    \n",
    "agent_rs, oracle_rs = np.array(agent_rs), np.array(oracle_rs)\n",
    "\n",
    "regrets = np.cumsum(oracle_rs - agent_rs, axis=-1)\n",
    "means = np.mean(regrets, axis=0)\n",
    "stds = np.var(regrets, axis=0)**0.5\n",
    "\n",
    "plt.figure(figsize=(6, 6))\n",
    "plt.plot(means, color=color)\n",
    "plt.fill_between(np.arange(len(means)), means - stds, means + stds, color=color, alpha=0.2)\n",
    "plt.locator_params(axis='y', nbins=4)\n",
    "plt.locator_params(axis='x', nbins=4)\n",
    "plt.title('UBE + Thompson regret on DeepSea\\n($\\zeta = 1.00$, $N = 4$)', fontsize=24)\n",
    "plt.xlabel('Time step $t$', fontsize=22)\n",
    "plt.ylabel('Online cumulative regret', fontsize=22)\n",
    "plt.xlim([0, num_time_steps])\n",
    "plt.xticks([0, num_time_steps // 2, num_time_steps])\n",
    "plt.gca().set_ylim(bottom=0)\n",
    "# plt.savefig(save_loc + 'ube-cumulative-regret-deepsea-4-1_00.pdf', bbox_inches='tight')\n",
    "plt.show()"
   ]
  },
  {
   "cell_type": "code",
   "execution_count": null,
   "metadata": {},
   "outputs": [],
   "source": [
    "means, stds = [], []\n",
    "\n",
    "# Environment constants\n",
    "rew_params = ((0., delta), (-delta, delta), (1., delta))\n",
    "env_params = {'N'          :  N,\n",
    "              'episodic'   :  False,\n",
    "              'rew_params' :  rew_params}\n",
    "\n",
    "# Define environment\n",
    "environment = DeepSea(env_params)\n",
    "environment.reset()\n",
    "\n",
    "# Agent constants\n",
    "agent_params = {'gamma'            : 0.9,\n",
    "                'kappa'            : 1.0,\n",
    "                'mu0'              : 0.0,\n",
    "                'lamda'            : 1.0,\n",
    "                'alpha'            : 2.0,\n",
    "                'beta'             : 2.0,\n",
    "                'Rmax'             : 1.0,\n",
    "                'max_iter'         : 2*N,\n",
    "                'zeta'             : 1.0,\n",
    "                'num_dyn_samples'  : 100,\n",
    "                'sa_list'          : environment.sa_list()}\n",
    "    \n",
    "agent_ = load_agent(environment, UbeNoUnrollAgent(agent_params))\n",
    "\n",
    "var_rew = agent_.local_var_rew\n",
    "var_Qmax = agent_.var_Qmax\n",
    "\n",
    "x = np.arange(4) + 1\n",
    "\n",
    "fig = plt.figure(figsize=(11, 5))\n",
    "\n",
    "for a in range(2):\n",
    "    \n",
    "    plt.subplot(2, 1, a + 1)\n",
    "    \n",
    "    plt.bar(x-0.1, var_rew[:, a], width=0.2, color='b', align='center',\n",
    "           facecolor=\"darkolivegreen\", alpha=0.2, label='Rew. epistemic variance')\n",
    "    plt.bar(x-0.1, var_rew[:, a], width=0.2, color='b', align='center',\n",
    "           facecolor=\"None\", edgecolor='k')\n",
    "    plt.bar(x+0.1, var_Qmax[:, a], width=0.2, color='g', align='center',\n",
    "           facecolor=\"c\", alpha=0.2, label='$Q_{max}$ term')\n",
    "    plt.bar(x+0.1, var_Qmax[:, a], width=0.2, color='g', align='center',\n",
    "           facecolor=\"None\", edgecolor='k')\n",
    "\n",
    "    if a == 1:\n",
    "        plt.xticks([1, 2, 3, 4])\n",
    "        plt.xlabel('State', fontsize=20)\n",
    "    else:\n",
    "        plt.title('UBE local uncertainty terms on DeepSea ($t = 4000, N = 4$)', fontsize=24)\n",
    "        plt.xticks([])\n",
    "    plt.yticks([0, 1, 2])\n",
    "    plt.ylabel('Variance', fontsize=20)\n",
    "    plt.legend(loc='upper left')\n",
    "    #plt.gca().text(1.5, 0, r's = {}, {}'.format(s + 1, actions[a]),\n",
    "    #               fontsize=15, horizontalalignment='center', verticalalignment='center')  \n",
    "    plt.tight_layout()\n",
    "# plt.savefig(save_loc + 'ube-local-variance-decomp-4000.pdf', bbox_inches='tight')\n",
    "plt.show()"
   ]
  },
  {
   "cell_type": "markdown",
   "metadata": {},
   "source": [
    "# UBE"
   ]
  },
  {
   "cell_type": "code",
   "execution_count": 9,
   "metadata": {},
   "outputs": [
    {
     "data": {
      "application/vnd.jupyter.widget-view+json": {
       "model_id": "9d370f464abc4694a654f85db63b1272",
       "version_major": 2,
       "version_minor": 0
      },
      "text/plain": [
       "HBox(children=(IntProgress(value=0, max=10), HTML(value='')))"
      ]
     },
     "metadata": {},
     "output_type": "display_data"
    },
    {
     "data": {
      "application/vnd.jupyter.widget-view+json": {
       "model_id": "3d44df26fe4141b1a0bb0cbf2792e5a1",
       "version_major": 2,
       "version_minor": 0
      },
      "text/plain": [
       "HBox(children=(IntProgress(value=0, max=5001), HTML(value='')))"
      ]
     },
     "metadata": {},
     "output_type": "display_data"
    },
    {
     "name": "stdout",
     "output_type": "stream",
     "text": [
      "\n"
     ]
    },
    {
     "data": {
      "application/vnd.jupyter.widget-view+json": {
       "model_id": "9f50392cd5604813b3c495da1bb11745",
       "version_major": 2,
       "version_minor": 0
      },
      "text/plain": [
       "HBox(children=(IntProgress(value=0, max=5001), HTML(value='')))"
      ]
     },
     "metadata": {},
     "output_type": "display_data"
    },
    {
     "name": "stdout",
     "output_type": "stream",
     "text": [
      "\n"
     ]
    },
    {
     "data": {
      "application/vnd.jupyter.widget-view+json": {
       "model_id": "450aa568836b439983ece7e412ca9562",
       "version_major": 2,
       "version_minor": 0
      },
      "text/plain": [
       "HBox(children=(IntProgress(value=0, max=5001), HTML(value='')))"
      ]
     },
     "metadata": {},
     "output_type": "display_data"
    },
    {
     "name": "stdout",
     "output_type": "stream",
     "text": [
      "\n"
     ]
    },
    {
     "data": {
      "application/vnd.jupyter.widget-view+json": {
       "model_id": "4e09305a736d4963ab1cace30d9c5925",
       "version_major": 2,
       "version_minor": 0
      },
      "text/plain": [
       "HBox(children=(IntProgress(value=0, max=5001), HTML(value='')))"
      ]
     },
     "metadata": {},
     "output_type": "display_data"
    },
    {
     "name": "stdout",
     "output_type": "stream",
     "text": [
      "\n"
     ]
    },
    {
     "data": {
      "application/vnd.jupyter.widget-view+json": {
       "model_id": "617c4d3ae260410ea3febe3acbeb81f4",
       "version_major": 2,
       "version_minor": 0
      },
      "text/plain": [
       "HBox(children=(IntProgress(value=0, max=5001), HTML(value='')))"
      ]
     },
     "metadata": {},
     "output_type": "display_data"
    },
    {
     "name": "stdout",
     "output_type": "stream",
     "text": [
      "\n"
     ]
    },
    {
     "data": {
      "application/vnd.jupyter.widget-view+json": {
       "model_id": "8a40bfecef2242df9318e551cb653f02",
       "version_major": 2,
       "version_minor": 0
      },
      "text/plain": [
       "HBox(children=(IntProgress(value=0, max=5001), HTML(value='')))"
      ]
     },
     "metadata": {},
     "output_type": "display_data"
    },
    {
     "name": "stdout",
     "output_type": "stream",
     "text": [
      "\n"
     ]
    },
    {
     "data": {
      "application/vnd.jupyter.widget-view+json": {
       "model_id": "3b509fd03de84dc1b4a26a5de857e4eb",
       "version_major": 2,
       "version_minor": 0
      },
      "text/plain": [
       "HBox(children=(IntProgress(value=0, max=5001), HTML(value='')))"
      ]
     },
     "metadata": {},
     "output_type": "display_data"
    },
    {
     "name": "stdout",
     "output_type": "stream",
     "text": [
      "\n"
     ]
    },
    {
     "data": {
      "application/vnd.jupyter.widget-view+json": {
       "model_id": "861d22c57ece4ee884befe1094186085",
       "version_major": 2,
       "version_minor": 0
      },
      "text/plain": [
       "HBox(children=(IntProgress(value=0, max=5001), HTML(value='')))"
      ]
     },
     "metadata": {},
     "output_type": "display_data"
    },
    {
     "name": "stdout",
     "output_type": "stream",
     "text": [
      "\n"
     ]
    },
    {
     "data": {
      "application/vnd.jupyter.widget-view+json": {
       "model_id": "3db14fe5e82c4f40a8ba98e8fcb4856b",
       "version_major": 2,
       "version_minor": 0
      },
      "text/plain": [
       "HBox(children=(IntProgress(value=0, max=5001), HTML(value='')))"
      ]
     },
     "metadata": {},
     "output_type": "display_data"
    },
    {
     "name": "stdout",
     "output_type": "stream",
     "text": [
      "\n"
     ]
    },
    {
     "data": {
      "application/vnd.jupyter.widget-view+json": {
       "model_id": "786a7b3325a84c938da244e264a8585b",
       "version_major": 2,
       "version_minor": 0
      },
      "text/plain": [
       "HBox(children=(IntProgress(value=0, max=5001), HTML(value='')))"
      ]
     },
     "metadata": {},
     "output_type": "display_data"
    },
    {
     "name": "stdout",
     "output_type": "stream",
     "text": [
      "\n",
      "\n"
     ]
    }
   ],
   "source": [
    "for seed in tqdm(range(10)):\n",
    "\n",
    "    # Environment constants\n",
    "    rew_params = ((0., 0.), (-delta, 0.), (1., 0.)) # ((0., delta), (-delta, delta), (1., delta))\n",
    "    env_params = {'N'          :  N,\n",
    "                  'episodic'   :  False,\n",
    "                  'rew_params' :  rew_params}\n",
    "\n",
    "    # Define environment\n",
    "    environment = DeepSea(env_params)\n",
    "    environment.reset()\n",
    "    \n",
    "    Rmax = environment.get_mean_P_and_R()[1].max()\n",
    "\n",
    "    # Agent constants\n",
    "    agent_params = {'gamma'            : 0.9,\n",
    "                    'kappa'            : 1.0,\n",
    "                    'mu0'              : 0.0,\n",
    "                    'lamda'            : 2.0,\n",
    "                    'alpha'            : 2.0,\n",
    "                    'beta'             : 2.0,\n",
    "                    'Rmax'             : Rmax,\n",
    "                    'max_iter'         : 2*N,\n",
    "                    'zeta'             : 0.1,\n",
    "                    'num_dyn_samples'  : 1000,\n",
    "                    'sa_list'          : environment.sa_list()}\n",
    "\n",
    "\n",
    "    # Define agent\n",
    "    agent = UbeNoUnrollAgent(agent_params)\n",
    "\n",
    "    # Run experiment\n",
    "    run_experiment(environment=environment,\n",
    "                   agent=agent,\n",
    "                   seed=seed,\n",
    "                   num_time_steps=num_time_steps,\n",
    "                   max_buffer_length=N,\n",
    "                   save_every=save_every)"
   ]
  },
  {
   "cell_type": "code",
   "execution_count": 10,
   "metadata": {},
   "outputs": [
    {
     "ename": "FileNotFoundError",
     "evalue": "[Errno 2] No such file or directory: 'results/agent_logs/DeepSea-N_4/UbeNoUnrollAgent_gamma-0.9_kappa-0.1_mu0-0.0_lamda-1.0_alpha-2.0_beta-2.0_zeta-0.1_seed-0'",
     "output_type": "error",
     "traceback": [
      "\u001b[0;31m---------------------------------------------------------------------------\u001b[0m",
      "\u001b[0;31mFileNotFoundError\u001b[0m                         Traceback (most recent call last)",
      "\u001b[0;32m<ipython-input-10-80f715089e06>\u001b[0m in \u001b[0;36m<module>\u001b[0;34m\u001b[0m\n\u001b[1;32m     30\u001b[0m \u001b[0magent_rs\u001b[0m\u001b[0;34m,\u001b[0m \u001b[0moracle_rs\u001b[0m \u001b[0;34m=\u001b[0m \u001b[0;34m[\u001b[0m\u001b[0;34m]\u001b[0m\u001b[0;34m,\u001b[0m \u001b[0;34m[\u001b[0m\u001b[0;34m]\u001b[0m\u001b[0;34m\u001b[0m\u001b[0;34m\u001b[0m\u001b[0m\n\u001b[1;32m     31\u001b[0m \u001b[0;34m\u001b[0m\u001b[0m\n\u001b[0;32m---> 32\u001b[0;31m \u001b[0magent\u001b[0m \u001b[0;34m=\u001b[0m \u001b[0mload_agent\u001b[0m\u001b[0;34m(\u001b[0m\u001b[0menvironment\u001b[0m\u001b[0;34m,\u001b[0m \u001b[0mUbeNoUnrollAgent\u001b[0m\u001b[0;34m(\u001b[0m\u001b[0magent_params\u001b[0m\u001b[0;34m)\u001b[0m\u001b[0;34m,\u001b[0m \u001b[0mseed\u001b[0m\u001b[0;34m=\u001b[0m\u001b[0;36m0\u001b[0m\u001b[0;34m)\u001b[0m\u001b[0;34m\u001b[0m\u001b[0;34m\u001b[0m\u001b[0m\n\u001b[0m\u001b[1;32m     33\u001b[0m \u001b[0;34m\u001b[0m\u001b[0m\n\u001b[1;32m     34\u001b[0m \u001b[0;32mfor\u001b[0m \u001b[0mt\u001b[0m \u001b[0;32min\u001b[0m \u001b[0mnp\u001b[0m\u001b[0;34m.\u001b[0m\u001b[0marange\u001b[0m\u001b[0;34m(\u001b[0m\u001b[0mnum_time_steps\u001b[0m \u001b[0;34m//\u001b[0m \u001b[0msave_every\u001b[0m\u001b[0;34m)\u001b[0m\u001b[0;34m:\u001b[0m\u001b[0;34m\u001b[0m\u001b[0;34m\u001b[0m\u001b[0m\n",
      "\u001b[0;32m~/Documents/research/nips-2019-rl-workshop/code/utils.py\u001b[0m in \u001b[0;36mload_agent\u001b[0;34m(environment, agent, seed)\u001b[0m\n\u001b[1;32m    174\u001b[0m \u001b[0;34m\u001b[0m\u001b[0m\n\u001b[1;32m    175\u001b[0m     \u001b[0;31m# Load the agent\u001b[0m\u001b[0;34m\u001b[0m\u001b[0;34m\u001b[0m\u001b[0;34m\u001b[0m\u001b[0m\n\u001b[0;32m--> 176\u001b[0;31m     \u001b[0mfhandle\u001b[0m \u001b[0;34m=\u001b[0m \u001b[0mopen\u001b[0m\u001b[0;34m(\u001b[0m\u001b[0mload_name\u001b[0m\u001b[0;34m,\u001b[0m \u001b[0;34m'rb'\u001b[0m\u001b[0;34m)\u001b[0m\u001b[0;34m\u001b[0m\u001b[0;34m\u001b[0m\u001b[0m\n\u001b[0m\u001b[1;32m    177\u001b[0m     \u001b[0magent\u001b[0m \u001b[0;34m=\u001b[0m \u001b[0mpickle\u001b[0m\u001b[0;34m.\u001b[0m\u001b[0mload\u001b[0m\u001b[0;34m(\u001b[0m\u001b[0mfhandle\u001b[0m\u001b[0;34m)\u001b[0m\u001b[0;34m\u001b[0m\u001b[0;34m\u001b[0m\u001b[0m\n\u001b[1;32m    178\u001b[0m \u001b[0;34m\u001b[0m\u001b[0m\n",
      "\u001b[0;31mFileNotFoundError\u001b[0m: [Errno 2] No such file or directory: 'results/agent_logs/DeepSea-N_4/UbeNoUnrollAgent_gamma-0.9_kappa-0.1_mu0-0.0_lamda-1.0_alpha-2.0_beta-2.0_zeta-0.1_seed-0'"
     ]
    }
   ],
   "source": [
    "P, R = environment.get_mean_P_and_R()\n",
    "\n",
    "pi, Q = solve_tabular_continuing_PI(P, R, gamma=0.9, max_iter=2*N)\n",
    "\n",
    "means, stds = [], []\n",
    "\n",
    "# Environment constants\n",
    "rew_params = ((0., 0.), (-delta, 0.), (1., 0.)) # ((0., delta), (-delta, delta), (1., delta))\n",
    "env_params = {'N'          :  N,\n",
    "              'episodic'   :  False,\n",
    "              'rew_params' :  rew_params}\n",
    "\n",
    "# Define environment\n",
    "environment = DeepSea(env_params)\n",
    "environment.reset()\n",
    "\n",
    "# Agent constants\n",
    "agent_params = {'gamma'            : 0.9,\n",
    "                'kappa'            : 0.1,\n",
    "                'mu0'              : 0.0,\n",
    "                'lamda'            : 1.0,\n",
    "                'alpha'            : 2.0,\n",
    "                'beta'             : 2.0,\n",
    "                'Rmax'             : Rmax,\n",
    "                'max_iter'         : 2*N,\n",
    "                'zeta'             : 0.1,\n",
    "                'num_dyn_samples'  : 1000,\n",
    "                'sa_list'          : environment.sa_list()}\n",
    "\n",
    "agent_rs, oracle_rs = [], []\n",
    "\n",
    "agent = load_agent(environment, UbeNoUnrollAgent(agent_params), seed=0)\n",
    "\n",
    "for t in np.arange(num_time_steps // save_every):\n",
    "                \n",
    "    means.append(agent.Qmu_log[t])\n",
    "    stds.append(agent.Qvar_log[t]**0.5)\n",
    "            \n",
    "means = np.array(means)\n",
    "stds = np.array(stds)"
   ]
  },
  {
   "cell_type": "code",
   "execution_count": null,
   "metadata": {
    "scrolled": false
   },
   "outputs": [],
   "source": [
    "fig = plt.figure(figsize=(10, 6))\n",
    "\n",
    "color = 'green'\n",
    "actions = ['left', 'right']\n",
    "leg_names = ['$\\mathbb{E}_{\\\\theta_{\\mathcal{T}}, \\\\theta_{\\mathcal{R}}}\\mu_{z_{\\mathbf{s}, \\mathbf{a}}}$',\n",
    "             '$u^{1/2}_{\\mathbf{s}, \\mathbf{a}}$',\n",
    "             '$Q^*_{\\mathbf{s}, \\mathbf{a}}$']\n",
    "\n",
    "leg = [None] * 3\n",
    "\n",
    "for s in range(4):\n",
    "    for a in range(2):\n",
    "        \n",
    "        plt.subplot(2, 4, s + 4 * a + 1)\n",
    "        leg[0], = plt.plot(np.arange(len(means[:, s, a])) * save_every,\n",
    "                           means[:, s, a],\n",
    "                           color=color)\n",
    "        leg[1] = plt.fill_between(np.arange(len(means[:, s, a])) * save_every,\n",
    "                                   means[:, s, a] + stds[:, s, a],\n",
    "                                   means[:, s, a] - stds[:, s, a],\n",
    "                                   color=color, alpha=0.2)\n",
    "        \n",
    "        leg[2], = plt.plot(np.arange(len(means[:, s, a])) * save_every, \n",
    "                           np.ones(len(means[:, s, a])) * Q[s, a], \n",
    "                           '--',\n",
    "                           color='red')\n",
    "          \n",
    "        plt.ylim([-8, 8])\n",
    "        plt.yticks([-8, 0, 8])\n",
    "        plt.xlim([0, len(means[:, s, a])])\n",
    "        plt.xticks([0, num_time_steps // 2, num_time_steps])\n",
    "        plt.tight_layout()\n",
    "        \n",
    "        if s > 0:\n",
    "            plt.yticks([])\n",
    "        else:\n",
    "            plt.ylabel('z', fontsize=20)\n",
    "        if a == 0:\n",
    "            plt.xticks([])\n",
    "        else:\n",
    "            plt.xlabel('t', fontsize=20)\n",
    "        \n",
    "        plt.gca().text(num_time_steps // 2, 6, r's = {}, {}'.format(s + 1, actions[a]),\n",
    "                       fontsize=15, horizontalalignment='center')          \n",
    "            \n",
    "            \n",
    "fig.suptitle('UBE posterior on DeepSea ($\\zeta = 0.10$, $N = 4$)', fontsize=24)\n",
    "plt.figlegend(leg, leg_names, loc = 'lower center', ncol=3, labelspacing=0., fontsize=20)\n",
    "fig.subplots_adjust(top=0.86, bottom=0.25)\n",
    "# plt.savefig(save_loc + 'ube-posterior-accuracy-deepsea-4-1_00.pdf', bbox_inches='tight')\n",
    "plt.show()"
   ]
  },
  {
   "cell_type": "code",
   "execution_count": null,
   "metadata": {
    "scrolled": false
   },
   "outputs": [],
   "source": [
    "color = 'green'\n",
    "\n",
    "# Environment constants\n",
    "rew_params = ((0., 0.), (-delta, 0.), (1., 0.)) # ((0., delta), (-delta, delta), (1., delta))\n",
    "env_params = {'N'          :  N,\n",
    "              'episodic'   :  False,\n",
    "              'rew_params' :  rew_params}\n",
    "\n",
    "# Define environment\n",
    "environment = DeepSea(env_params)\n",
    "environment.reset()\n",
    "\n",
    "# Agent constants\n",
    "agent_params = {'gamma'            : 0.9,\n",
    "                'kappa'            : 0.1,\n",
    "                'mu0'              : 0.0,\n",
    "                'lamda'            : 1.0,\n",
    "                'alpha'            : 2.0,\n",
    "                'beta'             : 2.0,\n",
    "                'Rmax'             : Rmax,\n",
    "                'max_iter'         : 2*N,\n",
    "                'zeta'             : 0.1,\n",
    "                'num_dyn_samples'  : 1000,\n",
    "                'sa_list'          : environment.sa_list()}\n",
    "\n",
    "\n",
    "agent_rs, oracle_rs = [], []\n",
    "\n",
    "for seed in range(10):\n",
    "    \n",
    "    # Define agent\n",
    "    agent = load_agent(environment, UbeNoUnrollAgent(agent_params), seed=seed)\n",
    "    \n",
    "    agent_rs.append(agent.train_r)\n",
    "\n",
    "    oracle_r = run_oracle_experiment(environment=environment,\n",
    "                                     seed=seed,\n",
    "                                     gamma=0.9,\n",
    "                                     num_time_steps=num_time_steps,\n",
    "                                     num_PI_iter=2*N)[2]\n",
    "    \n",
    "    oracle_rs.append(oracle_r)\n",
    "    \n",
    "agent_rs, oracle_rs = np.array(agent_rs), np.array(oracle_rs)\n",
    "\n",
    "regrets = np.cumsum(oracle_rs - agent_rs, axis=-1)\n",
    "means = np.mean(regrets, axis=0)\n",
    "stds = np.var(regrets, axis=0)**0.5\n",
    "\n",
    "plt.figure(figsize=(6, 6))\n",
    "plt.plot(means, color=color)\n",
    "plt.fill_between(np.arange(len(means)), means - stds, means + stds, color=color, alpha=0.2)\n",
    "plt.locator_params(axis='y', nbins=4)\n",
    "plt.locator_params(axis='x', nbins=4)\n",
    "plt.title('UBE + Thompson regret on DeepSea\\n($\\zeta = ' + str(agent.kappa) + '$, $N = 4$)', fontsize=24)\n",
    "plt.xlabel('Time step $t$', fontsize=22)\n",
    "plt.ylabel('Online cumulative regret', fontsize=22)\n",
    "plt.xlim([0, num_time_steps])\n",
    "plt.xticks([0, num_time_steps // 2, num_time_steps])\n",
    "plt.gca().set_ylim(bottom=0)\n",
    "# plt.savefig(save_loc + 'ube-cumulative-regret-deepsea-4-1_00.pdf', bbox_inches='tight')\n",
    "plt.show()"
   ]
  },
  {
   "cell_type": "markdown",
   "metadata": {},
   "source": [
    "# MM Thompson"
   ]
  },
  {
   "cell_type": "code",
   "execution_count": 93,
   "metadata": {
    "scrolled": true
   },
   "outputs": [
    {
     "data": {
      "application/vnd.jupyter.widget-view+json": {
       "model_id": "3a6d9b63588b40c2976949f7edb2dba9",
       "version_major": 2,
       "version_minor": 0
      },
      "text/plain": [
       "HBox(children=(IntProgress(value=0, max=1), HTML(value='')))"
      ]
     },
     "metadata": {},
     "output_type": "display_data"
    },
    {
     "data": {
      "application/vnd.jupyter.widget-view+json": {
       "model_id": "ce116986cfc0406b9b31f0fc956a8c68",
       "version_major": 2,
       "version_minor": 0
      },
      "text/plain": [
       "HBox(children=(IntProgress(value=0, max=1), HTML(value='')))"
      ]
     },
     "metadata": {},
     "output_type": "display_data"
    },
    {
     "data": {
      "application/vnd.jupyter.widget-view+json": {
       "model_id": "f2764dcac1f04339a18815929e461dd4",
       "version_major": 2,
       "version_minor": 0
      },
      "text/plain": [
       "HBox(children=(IntProgress(value=0, max=4001), HTML(value='')))"
      ]
     },
     "metadata": {},
     "output_type": "display_data"
    },
    {
     "name": "stdout",
     "output_type": "stream",
     "text": [
      "\n"
     ]
    }
   ],
   "source": [
    "for L in tqdm([4]):\n",
    "    for seed in tqdm(range(1)):\n",
    "\n",
    "        # Environment constants\n",
    "        rew_params = ((0., 0.), (-1e-1 * np.exp(- L / 4), 0.), (1., 0.))\n",
    "        env_params = {'L'          :  L,\n",
    "                      'episodic'   :  False,\n",
    "                      'rew_params' :  rew_params}\n",
    "\n",
    "        # Define environment\n",
    "        environment = DeepSea(env_params)\n",
    "        environment.reset()\n",
    "\n",
    "        # Agent constants\n",
    "        agent_params = {'gamma'            : 0.9,\n",
    "                        'kappa'            : 0.5,\n",
    "                        'mu0'              : 0.0,\n",
    "                        'lamda'            : 4.0,\n",
    "                        'alpha'            : 4.0,\n",
    "                        'beta'             : 4.0,\n",
    "                        'num_PI_steps'     : 40,\n",
    "                        'T'                : float('inf'),\n",
    "                        'zeta'             : 1.0,\n",
    "                        'thompson'         : True,\n",
    "                        'num_dyn_samples'  : 100, \n",
    "                        'sa_list'          : environment.sa_list()}\n",
    "\n",
    "        # Define agent\n",
    "        agent = MomentMatchingAgent(agent_params)\n",
    "\n",
    "        # Run experiment\n",
    "        agent_copies = run_experiment(environment,\n",
    "                                      agent,\n",
    "                                      seed=seed,\n",
    "                                      num_episodes=1,\n",
    "                                      num_frames_per_episode=4000,\n",
    "                                      num_offline_frames=100,\n",
    "                                      num_oracle_iter=40,\n",
    "                                      max_buffer_length=L,\n",
    "                                      save_every=save_every)"
   ]
  },
  {
   "cell_type": "code",
   "execution_count": 94,
   "metadata": {},
   "outputs": [],
   "source": [
    "P, R = environment.get_P_and_R()\n",
    "\n",
    "pi, Q = solve_tabular_continuing_PI(P, R, gamma=0.9, num_iter=100)"
   ]
  },
  {
   "cell_type": "code",
   "execution_count": 95,
   "metadata": {},
   "outputs": [],
   "source": [
    "means, stds = [], []\n",
    "\n",
    "# Environment constants\n",
    "rew_params = ((0., 0.), (-1e-1 * np.exp(- L / 4), 0.), (1., 0.))\n",
    "env_params = {'L'          :  L,\n",
    "              'episodic'   :  False,\n",
    "              'rew_params' :  rew_params}\n",
    "\n",
    "# Define environment\n",
    "environment = DeepSea(env_params)\n",
    "environment.reset()\n",
    "\n",
    "# Agent constants\n",
    "agent_params = {'gamma'            : 0.9,\n",
    "                'kappa'            : 0.5,\n",
    "                'mu0'              : 0.0,\n",
    "                'lamda'            : 4.0,\n",
    "                'alpha'            : 4.0,\n",
    "                'beta'             : 4.0,\n",
    "                'num_PI_steps'     : 40,\n",
    "                'T'                : float('inf'),\n",
    "                'zeta'             : 1.0,\n",
    "                'thompson'         : True,\n",
    "                'num_dyn_samples'  : 100, \n",
    "                'sa_list'          : environment.sa_list()}\n",
    "\n",
    "agent_rs, oracle_rs = [], []\n",
    "\n",
    "for frame in np.arange(0, 4001, save_every):\n",
    "    \n",
    "    agent_ = load_agent(environment, MomentMatchingAgent(agent_params), seed=0, episode=0, frame=frame)\n",
    "            \n",
    "    means.append(agent_.mu_z_sa)\n",
    "    stds.append(agent_.val_var_val**0.5)\n",
    "            \n",
    "means = np.array(means)\n",
    "stds = np.array(stds)"
   ]
  },
  {
   "cell_type": "code",
   "execution_count": 96,
   "metadata": {
    "scrolled": false
   },
   "outputs": [
    {
     "data": {
      "image/png": "[encoded data removed]",
      "text/plain": [
       "<Figure size 720x432 with 8 Axes>"
      ]
     },
     "metadata": {
      "needs_background": "light"
     },
     "output_type": "display_data"
    }
   ],
   "source": [
    "fig = plt.figure(figsize=(10, 6))\n",
    "\n",
    "color = 'deepskyblue'\n",
    "actions = ['left', 'right']\n",
    "leg_names = ['$\\mathbb{E}_{\\\\theta_{\\mathcal{T}}, \\\\theta_{\\mathcal{R}}}\\mu_{z^*_{\\mathbf{s}, \\mathbf{a}}}$',\n",
    "             'Var$_{\\\\theta_{\\mathcal{T}}, \\\\theta_{\\mathcal{R}}}[\\mu_{z^*_{\\mathbf{s}, \\mathbf{a}}}]^{1/2}$',\n",
    "             '$Q^*_{\\mathbf{s}, \\mathbf{a}}$']\n",
    "leg = [None] * 3\n",
    "\n",
    "for s in range(4):\n",
    "    for a in range(2):\n",
    "        \n",
    "        plt.subplot(2, 4, s + 4 * a + 1)\n",
    "        leg[0], = plt.plot(np.arange(len(means[:, s, a])) * save_every,\n",
    "                           means[:, s, a],\n",
    "                           color=color)\n",
    "        leg[1] = plt.fill_between(np.arange(len(means[:, s, a])) * save_every,\n",
    "                                   means[:, s, a] + stds[:, s, a],\n",
    "                                   means[:, s, a] - stds[:, s, a],\n",
    "                                   color=color, alpha=0.2)\n",
    "        \n",
    "        leg[2], = plt.plot(np.arange(len(means[:, s, a])) * save_every, \n",
    "                           np.ones(len(means[:, s, a])) * Q[s, a], \n",
    "                           '--',\n",
    "                           color='red')\n",
    "          \n",
    "        plt.ylim([0, 2])\n",
    "        plt.yticks([0, 1, 2])\n",
    "        plt.xlim([0, len(means[:, s, a])])\n",
    "        plt.xticks([0, 2000, 4000])\n",
    "        plt.tight_layout()\n",
    "        \n",
    "        if s > 0:\n",
    "            plt.yticks([])\n",
    "        else:\n",
    "            plt.ylabel('z', fontsize=20)\n",
    "        if a == 0:\n",
    "            plt.xticks([])\n",
    "        else:\n",
    "            plt.xlabel('t', fontsize=20)\n",
    "        \n",
    "        plt.gca().text(2000, 1.75, r's = {}, {}'.format(s + 1, actions[a]),\n",
    "                       fontsize=15, horizontalalignment='center')          \n",
    "            \n",
    "            \n",
    "fig.suptitle('MM + Thomp. posterior on DeepSea ($\\zeta = 1.00$, $N = 4$)', fontsize=24)\n",
    "plt.figlegend(leg, leg_names, loc = 'lower center', ncol=3, labelspacing=0., fontsize=20)\n",
    "fig.subplots_adjust(top=0.86, bottom=0.25)\n",
    "plt.savefig(save_loc + 'mm-thompson-posterior-accuracy-deepsea-4.pdf', bbox_inches='tight')\n",
    "plt.show()"
   ]
  },
  {
   "cell_type": "code",
   "execution_count": 97,
   "metadata": {},
   "outputs": [
    {
     "data": {
      "text/plain": [
       "0.04489868844601272"
      ]
     },
     "execution_count": 97,
     "metadata": {},
     "output_type": "execute_result"
    }
   ],
   "source": [
    "stds[-1, 0, 1]"
   ]
  },
  {
   "cell_type": "code",
   "execution_count": 98,
   "metadata": {},
   "outputs": [
    {
     "data": {
      "text/plain": [
       "0.7466187712292475"
      ]
     },
     "execution_count": 98,
     "metadata": {},
     "output_type": "execute_result"
    }
   ],
   "source": [
    "means[-1, 0, 0]"
   ]
  },
  {
   "cell_type": "code",
   "execution_count": 99,
   "metadata": {},
   "outputs": [
    {
     "data": {
      "text/plain": [
       "0.0020158922241721162"
      ]
     },
     "execution_count": 99,
     "metadata": {},
     "output_type": "execute_result"
    }
   ],
   "source": [
    "agent_.val_var_val[0, 1]"
   ]
  },
  {
   "cell_type": "code",
   "execution_count": 100,
   "metadata": {},
   "outputs": [
    {
     "data": {
      "image/png": "[encoded data removed]",
      "text/plain": [
       "<Figure size 432x432 with 1 Axes>"
      ]
     },
     "metadata": {
      "needs_background": "light"
     },
     "output_type": "display_data"
    }
   ],
   "source": [
    "color = 'deepskyblue'\n",
    "\n",
    "# Environment constants\n",
    "rew_params = ((0., 0.), (-1e-1 * np.exp(- L / 4), 0.), (1., 0.))\n",
    "env_params = {'L'          :  L,\n",
    "              'episodic'   :  False,\n",
    "              'rew_params' :  rew_params}\n",
    "\n",
    "# Define environment\n",
    "environment = DeepSea(env_params)\n",
    "environment.reset()\n",
    "\n",
    "# Agent constants\n",
    "agent_params = {'gamma'            : 0.9,\n",
    "                'kappa'            : 1.0,\n",
    "                'mu0'              : 0.0,\n",
    "                'lamda'            : 2.0,\n",
    "                'alpha'            : 3.0,\n",
    "                'beta'             : 3.0,\n",
    "                'num_PI_steps'     : 40,\n",
    "                'T'                : float('inf'),\n",
    "                'zeta'             : 1.0,\n",
    "                'thompson'         : True,\n",
    "                'num_dyn_samples'  : 100, \n",
    "                'sa_list'          : environment.sa_list()}\n",
    "\n",
    "\n",
    "agent_rs, oracle_rs = [], []\n",
    "\n",
    "for seed in range(1):\n",
    "    \n",
    "    # Define agent\n",
    "    agent = MomentMatchingAgent(agent_params)\n",
    "    agent = load_agent(environment, agent, seed=seed, episode=0, frame=4000)\n",
    "    \n",
    "    agent_rs.append(agent.train_r)\n",
    "\n",
    "    oracle_r = run_oracle_experiment(environment,\n",
    "                                     seed=seed,\n",
    "                                     gamma=0.9,\n",
    "                                     num_iter=40,\n",
    "                                     num_episodes=1,\n",
    "                                     num_frames_per_episode=4000)[2]\n",
    "    \n",
    "    oracle_rs.append(oracle_r)\n",
    "    \n",
    "agent_rs, oracle_rs = np.array(agent_rs), np.array(oracle_rs)\n",
    "\n",
    "regrets = np.cumsum(oracle_rs - agent_rs, axis=-1)\n",
    "means = np.mean(regrets, axis=0)\n",
    "stds = np.var(regrets, axis=0)**0.5\n",
    "\n",
    "plt.figure(figsize=(6, 6))\n",
    "plt.plot(means, color=color)\n",
    "plt.fill_between(np.arange(len(means)), means - stds, means + stds, color=color, alpha=0.2)\n",
    "plt.locator_params(axis='y', nbins=4)\n",
    "plt.locator_params(axis='x', nbins=4)\n",
    "plt.title('MM + Var. Bonus regret on DeepSea\\n($\\zeta = 1.00$, $N = 4$)', fontsize=24)\n",
    "plt.xlabel('Time step $t$', fontsize=22)\n",
    "plt.ylabel('Online cumulative regret', fontsize=22)\n",
    "plt.xlim([0, 4000])\n",
    "plt.gca().set_ylim(bottom=0, top=400)\n",
    "# plt.savefig(save_loc + 'mm-thompson-cumulative-regret-deepsea-4.pdf', bbox_inches='tight')\n",
    "plt.show()"
   ]
  },
  {
   "cell_type": "code",
   "execution_count": 101,
   "metadata": {},
   "outputs": [],
   "source": [
    "agent_ = load_agent(environment, agent, seed=seed, episode=0, frame=4000)"
   ]
  },
  {
   "cell_type": "code",
   "execution_count": 102,
   "metadata": {},
   "outputs": [
    {
     "data": {
      "text/plain": [
       "array([[0.10363749, 0.1071836 ],\n",
       "       [0.10368981, 0.11054751],\n",
       "       [0.10834813, 0.11102743],\n",
       "       [0.11269701, 0.10638245]])"
      ]
     },
     "execution_count": 102,
     "metadata": {},
     "output_type": "execute_result"
    }
   ],
   "source": [
    "agent_.val_var_val**0.5 / agent_.gamma"
   ]
  },
  {
   "cell_type": "code",
   "execution_count": 103,
   "metadata": {},
   "outputs": [
    {
     "data": {
      "text/plain": [
       "array([[0.67216416, 0.74494462],\n",
       "       [0.67491409, 0.90687989],\n",
       "       [0.8223824 , 1.16004993],\n",
       "       [1.03867737, 1.4758661 ]])"
      ]
     },
     "execution_count": 103,
     "metadata": {},
     "output_type": "execute_result"
    }
   ],
   "source": [
    "agent_.mu_z_sa"
   ]
  },
  {
   "cell_type": "code",
   "execution_count": 104,
   "metadata": {},
   "outputs": [
    {
     "name": "stdout",
     "output_type": "stream",
     "text": [
      "[[0.00000000e+00 1.68765269e-09]\n",
      " [0.00000000e+00 2.34589105e-09]\n",
      " [0.00000000e+00 7.99072501e-09]\n",
      " [0.00000000e+00 4.43213866e-04]]\n",
      "[[0.00322911 0.00142445]\n",
      " [0.00844254 0.00179834]\n",
      " [0.02131982 0.00269603]\n",
      " [0.0555554  0.00319152]]\n",
      "[[ 0.00000000e+00  4.31523113e-08]\n",
      " [ 0.00000000e+00 -7.93504279e-09]\n",
      " [ 0.00000000e+00 -1.81982668e-07]\n",
      " [ 0.00000000e+00 -3.27563129e-04]]\n",
      "[[9.47694011e-07 3.77455836e-06]\n",
      " [8.95672860e-06 3.05195589e-05]\n",
      " [2.76648001e-05 9.06623932e-05]\n",
      " [1.77876789e-04 6.11975747e-05]]\n",
      "[[0.00869999 0.00930554]\n",
      " [0.00870878 0.00989881]\n",
      " [0.00950885 0.00998494]\n",
      " [0.0102875  0.00916695]]\n"
     ]
    }
   ],
   "source": [
    "print(agent_.rew_var_dyn)\n",
    "print(agent_.rew_var_rew)\n",
    "print(agent_.cov_rew_val)\n",
    "print(agent_.val_var_dyn)\n",
    "print(agent_.val_var_val)"
   ]
  },
  {
   "cell_type": "code",
   "execution_count": 105,
   "metadata": {},
   "outputs": [
    {
     "data": {
      "text/plain": [
       "0.698"
      ]
     },
     "execution_count": 105,
     "metadata": {},
     "output_type": "execute_result"
    }
   ],
   "source": [
    "np.array([agent_.take_action(0, 0) for i in range(1000)]).mean()"
   ]
  },
  {
   "cell_type": "code",
   "execution_count": 106,
   "metadata": {},
   "outputs": [
    {
     "name": "stdout",
     "output_type": "stream",
     "text": [
      "var_rew_dyn\n",
      " [[0.00000000e+00 3.41247142e-09]\n",
      " [0.00000000e+00 2.37506284e-09]\n",
      " [0.00000000e+00 4.56134707e-09]\n",
      " [0.00000000e+00 4.87578718e-04]]\n",
      "var_rew_rew\n",
      " [[0.00318827 0.00144783]\n",
      " [0.0085714  0.00166368]\n",
      " [0.02156467 0.0021246 ]\n",
      " [0.05501092 0.00360638]]\n",
      "cov\n",
      " [[ 0.00000000e+00  3.92549473e-08]\n",
      " [ 0.00000000e+00  3.43487453e-08]\n",
      " [ 0.00000000e+00 -2.07789558e-07]\n",
      " [ 0.00000000e+00 -1.96488494e-04]]\n",
      "var_z_dyn\n",
      " [[1.27611548e-06 5.19111814e-06]\n",
      " [9.04042146e-06 4.21544885e-05]\n",
      " [2.67530190e-05 1.03018211e-04]\n",
      " [2.36788304e-04 7.99916755e-05]]\n",
      "var_z\n",
      " [0.01026339 0.01107058 0.01205425 0.01253481]\n",
      "0.3502452022564722 (1.0, -1.0491217919131661)\n"
     ]
    }
   ],
   "source": [
    "pi = agent_.pi\n",
    "\n",
    "P = agent_.sample_dynamics()\n",
    "\n",
    "rew_params = agent_.reward_posterior_arrays()\n",
    "\n",
    "s_idx = np.arange(len(pi))\n",
    "result = agent_.var_z(P, pi, agent_.mu_z_sa[s_idx, pi], rew_params, show=True)\n",
    "var_rew_dyn, var_rew_rew, cov, var_z_dyn, total_var, P_ = result"
   ]
  },
  {
   "cell_type": "code",
   "execution_count": 107,
   "metadata": {},
   "outputs": [],
   "source": [
    "mu, lamda, alpha, beta = agent_.reward_posterior_arrays()"
   ]
  },
  {
   "cell_type": "code",
   "execution_count": 21,
   "metadata": {},
   "outputs": [
    {
     "data": {
      "text/plain": [
       "0.3593016763604801"
      ]
     },
     "execution_count": 21,
     "metadata": {},
     "output_type": "execute_result"
    }
   ],
   "source": [
    "np.linalg.det(np.eye(P_.shape[0]) - 0.9**2 * P_)"
   ]
  },
  {
   "cell_type": "code",
   "execution_count": 29,
   "metadata": {},
   "outputs": [
    {
     "data": {
      "text/plain": [
       "(1.0, 1.3862943611198906)"
      ]
     },
     "execution_count": 29,
     "metadata": {},
     "output_type": "execute_result"
    }
   ],
   "source": [
    "np.linalg.slogdet(np.eye(2) * 2)"
   ]
  },
  {
   "cell_type": "code",
   "execution_count": null,
   "metadata": {},
   "outputs": [],
   "source": []
  }
 ],
 "metadata": {
  "kernelspec": {
   "display_name": "Python 3",
   "language": "python",
   "name": "python3"
  },
  "language_info": {
   "codemirror_mode": {
    "name": "ipython",
    "version": 3
   },
   "file_extension": ".py",
   "mimetype": "text/x-python",
   "name": "python",
   "nbconvert_exporter": "python",
   "pygments_lexer": "ipython3",
   "version": "3.7.3"
  }
 },
 "nbformat": 4,
 "nbformat_minor": 2
}
