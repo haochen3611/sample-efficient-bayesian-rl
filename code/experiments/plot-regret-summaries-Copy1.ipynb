{
 "cells": [
  {
   "cell_type": "code",
   "execution_count": 27,
   "metadata": {},
   "outputs": [],
   "source": [
    "import os\n",
    "import sys\n",
    "sys.path.append('/'.join(os.getcwd().split('/')[:-1]))\n",
    "\n",
    "import numpy as np\n",
    "import matplotlib.pyplot as plt\n",
    "import matplotlib\n",
    "\n",
    "from Agents import QLearningAgent, BayesianQAgent, PSRLAgent, UbeNoUnrollAgent, MomentMatchingAgent\n",
    "from Environments import DeepSea, WideNarrow, PriorMDP\n",
    "\n",
    "from utils import solve_tabular_continuing_PI,   \\\n",
    "                  run_experiment,                \\\n",
    "                  run_oracle_experiment,         \\\n",
    "                  load_agent,                    \\\n",
    "                  get_agent_regret\n",
    "\n",
    "from tqdm import tqdm_notebook as tqdm\n",
    "\n",
    "# For saving figures and agents\n",
    "if not os.path.exists('results'): os.mkdir('results')\n",
    "if not os.path.exists('results/figures'): os.mkdir('results/figures')\n",
    "if not os.path.exists('results/agent_logs'): os.mkdir('results/agent_logs')\n",
    "\n",
    "fig_loc = 'results/figures/'\n",
    "\n",
    "plt.rc('xtick', labelsize=16)\n",
    "plt.rc('ytick', labelsize=16)\n",
    "plt.rc('legend', fontsize=16)\n",
    "plt.rc('figure', titlesize=50)"
   ]
  },
  {
   "cell_type": "code",
   "execution_count": 28,
   "metadata": {},
   "outputs": [],
   "source": [
    "# Agent parameters\n",
    "agent_classes = [QLearningAgent, BayesianQAgent, PSRLAgent, UbeNoUnrollAgent, MomentMatchingAgent]\n",
    "agent_names = ['QL', 'BQL', 'PSRL', 'UBE ($\\\\zeta = 0.1$)', 'MM ($\\\\zeta = 1.0$)']\n",
    "agent_colors = ['black', 'purple', 'orange', 'green', 'deepskyblue']\n",
    "\n",
    "agent_params = [{'gamma'            : 0.9,\n",
    "                 'dither_param'     : 0.5,\n",
    "                 'lr'               : 0.1,\n",
    "                 'Q0'               : 0.0,\n",
    "                 'anneal_timescale' : float('inf'),\n",
    "                 'dither_mode'      : 'epsilon-greedy'},\n",
    "                \n",
    "                {'gamma'               : 0.9,\n",
    "                 'mu0'                 : 0.0,\n",
    "                 'lamda'               : 4.0,\n",
    "                 'alpha'               : 3.0,\n",
    "                 'beta'                : 3.0,\n",
    "                 'num_mixture_samples' : 1000},\n",
    "                \n",
    "                {'gamma'            : 0.9,\n",
    "                 'kappa'            : 1.0,\n",
    "                 'mu0'              : 0.0,\n",
    "                 'lamda'            : 4.0,\n",
    "                 'alpha'            : 3.0,\n",
    "                 'beta'             : 3.0},\n",
    "               \n",
    "                {'gamma'            : 0.9,\n",
    "                 'kappa'            : 1.0,\n",
    "                 'mu0'              : 0.0,\n",
    "                 'lamda'            : 4.0,\n",
    "                 'alpha'            : 3.0,\n",
    "                 'beta'             : 3.0,\n",
    "                 'zeta'             : 0.1,\n",
    "                 'num_dyn_samples'  : 100},\n",
    "               \n",
    "                {'gamma'            : 0.9,\n",
    "                 'kappa'            : 1.0,\n",
    "                 'mu0'              : 0.0,\n",
    "                 'lamda'            : 4.0,\n",
    "                 'alpha'            : 3.0,\n",
    "                 'beta'             : 3.0,\n",
    "                 'zeta'             : 1.0,\n",
    "                 'num_dyn_samples'  : 100}]"
   ]
  },
  {
   "cell_type": "markdown",
   "metadata": {},
   "source": [
    "# DeepSea"
   ]
  },
  {
   "cell_type": "code",
   "execution_count": 52,
   "metadata": {
    "scrolled": true
   },
   "outputs": [
    {
     "data": {
      "application/vnd.jupyter.widget-view+json": {
       "model_id": "5eb346396bd44ba08e86d654e5568062",
       "version_major": 2,
       "version_minor": 0
      },
      "text/plain": [
       "HBox(children=(IntProgress(value=1, bar_style='info', max=1), HTML(value='')))"
      ]
     },
     "metadata": {},
     "output_type": "display_data"
    },
    {
     "name": "stdout",
     "output_type": "stream",
     "text": [
      "\n"
     ]
    }
   ],
   "source": [
    "deepsea_regrets = np.zeros(shape=(5, 5, 10))\n",
    "\n",
    "for i, N in tqdm(enumerate([4, 6, 8, 10, 12])):\n",
    "\n",
    "    num_time_steps = 1250 * N\n",
    "    save_every = num_time_steps // 100\n",
    "    \n",
    "    delta = 1e-1 * np.exp(- N / 4)\n",
    "    rew_params = ((0., delta), (-delta, delta), (1., delta))\n",
    "    env_params = {'N'          :  N,\n",
    "                  'episodic'   :  False,\n",
    "                  'rew_params' :  rew_params}\n",
    "\n",
    "    # Define environment\n",
    "    environment = DeepSea(env_params)\n",
    "\n",
    "    # Number of PI steps and maximum buffer length (PSRL, UBE and MM only)\n",
    "    max_iter = 2 * N\n",
    "    \n",
    "    for j, (agent_class, agent_param) in enumerate(zip(agent_classes, agent_params)):\n",
    "        \n",
    "        agent_param['max_iter'] = max_iter\n",
    "        agent_param['sa_list'] = environment.sa_list()\n",
    "        agent_param['Rmax'] = environment.get_mean_P_and_R()[1].max()\n",
    "        \n",
    "        agent = agent_class(agent_param)\n",
    "        \n",
    "        max_buffer_length = 1 if j <= 1 else N + 1\n",
    "        \n",
    "        seeds = np.arange(10)\n",
    "        \n",
    "        for seed in seeds:\n",
    "            \n",
    "            environment.reset()\n",
    "            \n",
    "            rewards = get_agent_regret(environment,\n",
    "                                       agent, \n",
    "                                       seeds=[seed], \n",
    "                                       num_time_steps=num_time_steps,\n",
    "                                       max_iter=max_iter)\n",
    "            \n",
    "            deepsea_regrets[i, j, seed] = np.sum(rewards[1] - rewards[0], axis=-1) / np.sum(rewards[1], axis=-1)"
   ]
  },
  {
   "cell_type": "code",
   "execution_count": 109,
   "metadata": {},
   "outputs": [
    {
     "data": {
      "application/vnd.jupyter.widget-view+json": {
       "model_id": "b5b14a69651a4f138c3a72d0e9b1f437",
       "version_major": 2,
       "version_minor": 0
      },
      "text/plain": [
       "HBox(children=(IntProgress(value=1, bar_style='info', max=1), HTML(value='')))"
      ]
     },
     "metadata": {},
     "output_type": "display_data"
    },
    {
     "name": "stdout",
     "output_type": "stream",
     "text": [
      "\n"
     ]
    },
    {
     "data": {
      "image/png": "[encoded data removed]",
      "text/plain": [
       "<Figure size 864x468 with 5 Axes>"
      ]
     },
     "metadata": {
      "needs_background": "light"
     },
     "output_type": "display_data"
    }
   ],
   "source": [
    "fig = plt.figure(figsize=(12, 6.5))\n",
    "\n",
    "legend_obj = [None] * 5\n",
    "\n",
    "for i, N in tqdm(enumerate([4, 6, 8, 10, 12])):\n",
    "    plt.subplot(1, 5, i + 1)\n",
    "    for j, agent_name in enumerate(agent_names):\n",
    "        \n",
    "        mean = deepsea_regrets[i, j].mean()\n",
    "        std = deepsea_regrets[i, j].var()**0.5\n",
    "        \n",
    "        plt.plot([j, j], [mean - std, mean + std], color=agent_colors[j], zorder=1)\n",
    "        legend_obj[j] = plt.scatter(j, mean, facecolor=agent_colors[j], edgecolor='k', linewidth=1, s=75, zorder=3)\n",
    "        \n",
    "    plt.xlim([-1, 5])\n",
    "    plt.ylim([0, 1.1])\n",
    "    plt.xticks([])\n",
    "    \n",
    "    if i > 0:\n",
    "        plt.yticks([])\n",
    "    else:\n",
    "        plt.ylabel('Regret to oracle (normalised)', fontsize=20)\n",
    "        \n",
    "    plt.xlabel('N = {}'.format(N), fontsize=20)\n",
    "    \n",
    "plt.suptitle('Regret to oracle on DeepSea ($T = 1,250 \\\\times N$)', fontsize=26)\n",
    "plt.figlegend(legend_obj, agent_names, loc='lower center', ncol=5, labelspacing=0., fontsize=20)\n",
    "plt.tight_layout()\n",
    "fig.subplots_adjust(bottom=0.2, top=0.875)\n",
    "plt.savefig(fig_loc + 'regret_summary_deepsea.pdf')\n",
    "plt.show()"
   ]
  },
  {
   "cell_type": "markdown",
   "metadata": {},
   "source": [
    "# WideNarrow"
   ]
  },
  {
   "cell_type": "code",
   "execution_count": 73,
   "metadata": {},
   "outputs": [
    {
     "ename": "ValueError",
     "evalue": "operands could not be broadcast together with shapes (1,6001) (1,12002) ",
     "output_type": "error",
     "traceback": [
      "\u001b[0;31m---------------------------------------------------------------------------\u001b[0m",
      "\u001b[0;31mValueError\u001b[0m                                Traceback (most recent call last)",
      "\u001b[0;32m<ipython-input-73-f726267ac947>\u001b[0m in \u001b[0;36m<module>\u001b[0;34m\u001b[0m\n\u001b[1;32m     43\u001b[0m                                            max_iter=max_iter)\n\u001b[1;32m     44\u001b[0m \u001b[0;34m\u001b[0m\u001b[0m\n\u001b[0;32m---> 45\u001b[0;31m                 \u001b[0mdeepsea_regrets\u001b[0m\u001b[0;34m[\u001b[0m\u001b[0mi\u001b[0m\u001b[0;34m,\u001b[0m \u001b[0mj\u001b[0m\u001b[0;34m,\u001b[0m \u001b[0mseed\u001b[0m\u001b[0;34m]\u001b[0m \u001b[0;34m=\u001b[0m \u001b[0mnp\u001b[0m\u001b[0;34m.\u001b[0m\u001b[0msum\u001b[0m\u001b[0;34m(\u001b[0m\u001b[0mrewards\u001b[0m\u001b[0;34m[\u001b[0m\u001b[0;36m1\u001b[0m\u001b[0;34m]\u001b[0m \u001b[0;34m-\u001b[0m \u001b[0mrewards\u001b[0m\u001b[0;34m[\u001b[0m\u001b[0;36m0\u001b[0m\u001b[0;34m]\u001b[0m\u001b[0;34m,\u001b[0m \u001b[0maxis\u001b[0m\u001b[0;34m=\u001b[0m\u001b[0;34m-\u001b[0m\u001b[0;36m1\u001b[0m\u001b[0;34m)\u001b[0m \u001b[0;34m/\u001b[0m \u001b[0mnp\u001b[0m\u001b[0;34m.\u001b[0m\u001b[0msum\u001b[0m\u001b[0;34m(\u001b[0m\u001b[0mrewards\u001b[0m\u001b[0;34m[\u001b[0m\u001b[0;36m1\u001b[0m\u001b[0;34m]\u001b[0m\u001b[0;34m,\u001b[0m \u001b[0maxis\u001b[0m\u001b[0;34m=\u001b[0m\u001b[0;34m-\u001b[0m\u001b[0;36m1\u001b[0m\u001b[0;34m)\u001b[0m\u001b[0;34m\u001b[0m\u001b[0;34m\u001b[0m\u001b[0m\n\u001b[0m",
      "\u001b[0;31mValueError\u001b[0m: operands could not be broadcast together with shapes (1,6001) (1,12002) "
     ]
    }
   ],
   "source": [
    "widenarrow_regrets = np.zeros(shape=(3, 5, 10))\n",
    "\n",
    "for N in [1]:\n",
    "    for W in [6, 10, 14]:\n",
    "\n",
    "        num_time_steps = 1000 * N * W\n",
    "        save_every = num_time_steps // 100\n",
    "\n",
    "        mu_l, mu_h = 0.0, 0.5\n",
    "        sig_l, sig_h = 1.0, 1.0\n",
    "\n",
    "        rew_params = ((mu_l, sig_l), (mu_h, sig_h), (mu_l, sig_l))\n",
    "        env_params = {'N'          : N,\n",
    "                      'W'          : W,\n",
    "                      'rew_params' : rew_params}\n",
    "\n",
    "        # Define environment\n",
    "        environment = WideNarrow(env_params)\n",
    "\n",
    "        # Number of PI steps and maximum buffer length (PSRL, UBE and MM only)\n",
    "        max_iter = 4 * N\n",
    "\n",
    "        for i, (agent_class, agent_param) in enumerate(zip(agent_classes, agent_params)):\n",
    "\n",
    "            agent_param['max_iter'] = max_iter\n",
    "            agent_param['sa_list'] = environment.sa_list()\n",
    "            agent_param['Rmax'] = environment.get_mean_P_and_R()[1].max()\n",
    "\n",
    "            agent = agent_class(agent_param)\n",
    "            \n",
    "            max_buffer_length = 1 if i <= 1 else 2 * N + 1\n",
    "\n",
    "            seeds = np.arange(10)\n",
    "\n",
    "            for seed in seeds:\n",
    "\n",
    "                environment.reset()\n",
    "\n",
    "                rewards = get_agent_regret(environment,\n",
    "                                           agent, \n",
    "                                           seeds=[seed], \n",
    "                                           num_time_steps=num_time_steps,\n",
    "                                           max_iter=max_iter)\n",
    "\n",
    "                deepsea_regrets[i, j, seed] = np.sum(rewards[1] - rewards[0], axis=-1) / np.sum(rewards[1], axis=-1)"
   ]
  },
  {
   "cell_type": "markdown",
   "metadata": {},
   "source": [
    "# PriorMDP"
   ]
  },
  {
   "cell_type": "code",
   "execution_count": 4,
   "metadata": {
    "scrolled": true
   },
   "outputs": [],
   "source": [
    "# for Ns in [4, 6, 8]:\n",
    "#     for Na in [3]:\n",
    "#         for env_seed in range(4):\n",
    "\n",
    "#             num_time_steps = 1250 * Ns\n",
    "#             save_every = num_time_steps // 100\n",
    "\n",
    "#             env_params = {'Ns'         : Ns,\n",
    "#                           'Na'         : Na,\n",
    "#                           'kappa'      : 1.0,\n",
    "#                           'mu0'        : 0.0,\n",
    "#                           'lamda'      : 1.0,\n",
    "#                           'alpha'      : 4.0,\n",
    "#                           'beta'       : 4.0,\n",
    "#                           'seed'       : env_seed}\n",
    "\n",
    "#             # Define environment\n",
    "#             environment = PriorMDP(env_params)\n",
    "\n",
    "#             # Number of PI steps and maximum buffer length (PSRL, UBE and MM only)\n",
    "#             max_iter = 2 * Ns\n",
    "\n",
    "#             for i, (agent_class, agent_param) in enumerate(zip(agent_classes, agent_params)):\n",
    "\n",
    "#                 agent_param['max_iter'] = max_iter\n",
    "#                 agent_param['sa_list'] = environment.sa_list()\n",
    "#                 agent_param['Rmax'] = environment.get_mean_P_and_R()[1].max()\n",
    "\n",
    "#                 agent = agent_class(agent_param)\n",
    "\n",
    "#                 max_buffer_length = 1 if i <= 1 else N + 1\n",
    "\n",
    "#                 for seed in range(10):\n",
    "                    \n",
    "#                     environment.reset()\n",
    "                    \n",
    "#                     print(agent, environment, Ns, Na, env_seed, seed)\n",
    "#                     run_experiment(environment=environment,\n",
    "#                                    agent=agent,\n",
    "#                                    seed=seed,\n",
    "#                                    num_time_steps=num_time_steps,\n",
    "#                                    max_buffer_length=max_buffer_length,\n",
    "#                                    save_every=save_every)"
   ]
  },
  {
   "cell_type": "code",
   "execution_count": null,
   "metadata": {},
   "outputs": [],
   "source": []
  }
 ],
 "metadata": {
  "kernelspec": {
   "display_name": "Python 3",
   "language": "python",
   "name": "python3"
  },
  "language_info": {
   "codemirror_mode": {
    "name": "ipython",
    "version": 3
   },
   "file_extension": ".py",
   "mimetype": "text/x-python",
   "name": "python",
   "nbconvert_exporter": "python",
   "pygments_lexer": "ipython3",
   "version": "3.7.3"
  }
 },
 "nbformat": 4,
 "nbformat_minor": 2
}
